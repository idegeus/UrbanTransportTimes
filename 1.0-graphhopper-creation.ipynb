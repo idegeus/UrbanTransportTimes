{
 "cells": [
  {
   "attachments": {},
   "cell_type": "markdown",
   "metadata": {},
   "source": [
    "# Data and Creation Flow\n",
    "Creation of the necessary data to make calculations is done in the following steps. \n",
    "\n",
    "### Extraction of population rasters which serve as centroids for isochrones.\n",
    "1. For every GHS Urban Center as specified by `1-data/1-research/cities.xlsx`, make an extract from GHS-pop, giving population estimates.\n",
    "2. Export these to GeoDataFrame Pickles and GeoTIFF files in `3-interim/populationmasks`\n",
    "\n",
    "### Setup of isochrone generator in a Graphhopper route-calculator instance. \n",
    "1. Download OSM map file directly from OpenStreetMap\n",
    "2. Convert `map.osm` data to `map.osm.pbf` using `Osmium` so it can be read by GraphHopper.\n",
    "3. Download transit GTFS feed data from `https://www.transit.land/documentation/`.\n",
    "4. Update GraphHopper Config file (if necessary)\n",
    "5. Create Graphhopper instance, wait for it to finish parsing all data.\n",
    "   1. Comment: profiles and points have a big influence on the outcome of these isochrones.\n",
    "\n",
    "### Go over the grid in the extracted population mask, fetching isochrones from GraphHopper\n",
    "   1. Run loop and cache in cache.db"
   ]
  },
  {
   "cell_type": "code",
   "execution_count": null,
   "metadata": {},
   "outputs": [],
   "source": []
  }
 ],
 "metadata": {
  "language_info": {
   "name": "python"
  },
  "orig_nbformat": 4
 },
 "nbformat": 4,
 "nbformat_minor": 2
}
