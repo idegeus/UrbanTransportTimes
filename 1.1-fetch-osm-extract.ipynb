{
 "cells": [
  {
   "attachments": {},
   "cell_type": "markdown",
   "metadata": {},
   "source": [
    "#### Extract OSM extracts and GTFS extracts\n",
    "\n",
    "* https://osmcode.org/osmium-tool/manual.html\n",
    "* https://github.com/triply-at/gtfsutils \n",
    "\n"
   ]
  },
  {
   "cell_type": "code",
   "execution_count": 5,
   "metadata": {},
   "outputs": [
    {
     "name": "stdout",
     "output_type": "stream",
     "text": [
      "[======================================================================] 100% % \n",
      "File:\n",
      "  Name: 1-data/2-gh/osm/amsterdam.osm.pbf\n",
      "  Format: PBF\n",
      "  Compression: none\n",
      "  Size: 47954042\n",
      "Header:\n",
      "  Bounding boxes:\n",
      "  With history: no\n",
      "  Options:\n",
      "    generator=osmium/1.15.0\n",
      "    pbf_dense_nodes=true\n",
      "    pbf_optional_feature_0=Sort.Type_then_ID\n",
      "    sorting=Type_then_ID\n"
     ]
    }
   ],
   "source": [
    "# Extract boundingbox\n",
    "bbox = [(4.70317, 52.47143), (5.02670, 52.25626)]\n",
    "osm_src = f\"1-data/2-gh/osm/europe-latest.osm.pbf\" # TODO: Replace by planet.osm.pbf\n",
    "osm_out = f\"1-data/2-gh/osm/amsterdam.osm.pbf\"\n",
    "\n",
    "!osmium extract -b {bbox[0][0]},{bbox[0][1]},{bbox[1][0]},{bbox[1][1]} {osm_src} -o {osm_out} # --overwrite\n",
    "!osmium fileinfo {osm_out}"
   ]
  },
  {
   "cell_type": "code",
   "execution_count": 7,
   "metadata": {},
   "outputs": [
    {
     "name": "stdout",
     "output_type": "stream",
     "text": [
      "[-0.1264966, 0.208228412, 21.05204, 55.67276]\n"
     ]
    }
   ],
   "source": [
    "gtfs_in   =  \"1-data/2-gh/gtfs/gtfs-nl.zip\"\n",
    "!gtfsutils bounds 1-data/2-gh/gtfs/gtfs-nl.zip"
   ]
  },
  {
   "cell_type": "code",
   "execution_count": 8,
   "metadata": {},
   "outputs": [
    {
     "name": "stdout",
     "output_type": "stream",
     "text": [
      "2023-05-30 14:01:45 [DEBUG] Loaded 1-data/2-gh/gtfs/gtfs-nl.zip in 28.47s\n",
      "2023-05-30 14:01:50 [DEBUG] Filtered 1-data/2-gh/gtfs/gtfs-nl.zip in 5.25s\n",
      "2023-05-30 14:01:54 [DEBUG] Saved to 1-data/2-gh/gtfs/amsterdam.gtfs.zip in 3.91s\n"
     ]
    }
   ],
   "source": [
    "gtfs_out  = \"1-data/2-gh/gtfs/amsterdam.gtfs.zip\"\n",
    "gtfs_bbox = f' \"[{bbox[0][0]},{bbox[0][1]},{bbox[1][0]},{bbox[1][1]}]\"'\n",
    "\n",
    "# Change parameter -o from intersects to within\n",
    "!gtfsutils filter -t shapes -o within --overwrite -v {gtfs_in} {gtfs_out} {gtfs_bbox}"
   ]
  },
  {
   "attachments": {},
   "cell_type": "markdown",
   "metadata": {},
   "source": [
    "### Create GraphHopper"
   ]
  },
  {
   "cell_type": "code",
   "execution_count": 1,
   "metadata": {},
   "outputs": [
    {
     "name": "stdout",
     "output_type": "stream",
     "text": [
      "2023-05-30 13:47:35.640 [main] INFO  org.eclipse.jetty.util.log - Logging initialized @3181ms to org.eclipse.jetty.util.log.Slf4jLog\n",
      "2023-05-30 13:47:35.852 [main] INFO  i.d.server.DefaultServerFactory - Registering jersey handler with root path prefix: /\n",
      "2023-05-30 13:47:35.858 [main] INFO  i.d.server.DefaultServerFactory - Registering admin handler with root path prefix: /\n",
      "2023-05-30 13:47:36.224 [main] INFO  io.dropwizard.assets.AssetsBundle - Registering AssetBundle with name: assets for path /maps/*\n",
      "2023-05-30 13:47:36.226 [main] INFO  io.dropwizard.assets.AssetsBundle - Registering AssetBundle with name: webjars for path /webjars/*\n",
      "2023-05-30 13:47:36.237 [main] INFO  io.dropwizard.server.ServerFactory - Starting GraphHopperApplication\n",
      "                        _     _\n",
      "   __ _ _ __ __ _ _ __ | |__ | |__   ___  _ __  _ __   ___ _ __\n",
      "  / _` | '__/ _` | '_ \\| '_ \\| '_ \\ / _ \\| '_ \\| '_ \\ / _ \\ '__|\n",
      " | (_| | | | (_| | |_) | | | | | | | (_) | |_) | |_) |  __/ |\n",
      "  \\__, |_|  \\__,_| .__/|_| |_|_| |_|\\___/| .__/| .__/ \\___|_|\n",
      "  |___/          |_|                     |_|   |_|\n",
      "2023-05-30 13:47:36.406 [main] INFO  o.e.jetty.setuid.SetUIDListener - Opened application@4af70944{HTTP/1.1, (http/1.1)}{localhost:8989}\n",
      "2023-05-30 13:47:36.407 [main] INFO  o.e.jetty.setuid.SetUIDListener - Opened admin@35267fd4{HTTP/1.1, (http/1.1)}{localhost:8990}\n",
      "2023-05-30 13:47:36.409 [main] INFO  org.eclipse.jetty.server.Server - jetty-9.4.51.v20230217; built: 2023-02-17T08:19:37.309Z; git: b45c405e4544384de066f814ed42ae3dceacdd49; jvm 11.0.13+10-LTS-370\n",
      "2023-05-30 13:47:36.437 [main] INFO  com.graphhopper.GraphHopper - version 8.0|2023-05-29T19:54:17Z (9,21,6,5,2,9)\n",
      "2023-05-30 13:47:36.842 [main] INFO  com.graphhopper.GraphHopper - No custom areas are used, custom_areas.directory not given\n",
      "2023-05-30 13:47:36.861 [main] INFO  com.graphhopper.GraphHopper - No country rules available\n",
      "2023-05-30 13:47:36.861 [main] INFO  com.graphhopper.GraphHopper - start creating graph from 1-data/2-gh/osm/amsterdam.osm.pbf\n",
      "2023-05-30 13:47:36.920 [main] INFO  com.graphhopper.GraphHopper - using car,bike,foot|RAM_STORE|2D|no_turn_cost|nodes:9,edges:21,geometry:6,location_index:5,string_index:2,nodesCH:0,shortcuts:9, memory:totalMB:8192, usedMB:99\n",
      "2023-05-30 13:47:36.968 [main] INFO  c.g.reader.osm.WaySegmentParser - Start reading OSM file: '1-data/2-gh/osm/amsterdam.osm.pbf'\n",
      "2023-05-30 13:47:36.968 [main] INFO  c.g.reader.osm.WaySegmentParser - pass1 - start\n",
      "2023-05-30 13:47:39.256 [main] INFO  c.g.reader.osm.WaySegmentParser - pass1 - start reading OSM ways\n",
      "2023-05-30 13:47:41.262 [main] INFO  c.g.reader.osm.WaySegmentParser - pass1 - start reading OSM relations\n",
      "2023-05-30 13:47:41.569 [main] INFO  c.g.reader.osm.WaySegmentParser - pass1 - finished, processed ways: 642,427, accepted ways: 122,312, way nodes: 436,279, relations: 5,672, totalMB:8192, usedMB:940\n",
      "2023-05-30 13:47:41.573 [main] INFO  c.g.reader.osm.WaySegmentParser - pass1 - finished, took: 4.60s\n",
      "2023-05-30 13:47:41.573 [main] INFO  c.g.reader.osm.WaySegmentParser - Creating graph. Node count (pillar+tower): 436279, totalMB:8192, usedMB:940\n",
      "2023-05-30 13:47:41.573 [main] INFO  c.g.reader.osm.WaySegmentParser - pass2 - start\n",
      "2023-05-30 13:47:41.594 [main] INFO  c.g.reader.osm.WaySegmentParser - pass2 - start reading OSM nodes\n",
      "2023-05-30 13:47:45.267 [main] INFO  c.g.reader.osm.WaySegmentParser - pass2 - start reading OSM ways\n",
      "2023-05-30 13:47:52.833 [main] INFO  c.g.reader.osm.WaySegmentParser - pass2 - start reading OSM relations\n",
      "2023-05-30 13:47:52.836 [main] INFO  c.g.reader.osm.WaySegmentParser - pass2 - finished, processed ways: 642,427, way nodes: 436,279, nodes with tags: 19,212, node tag capacity: 1,056,768, ignored barriers at junctions: 234\n",
      "2023-05-30 13:47:52.837 [main] INFO  c.g.reader.osm.WaySegmentParser - pass2 - finished, took: 11.26s\n",
      "2023-05-30 13:47:52.837 [main] INFO  c.g.reader.osm.WaySegmentParser - Finished reading OSM file. pass1: 4s,  pass2: 11s,  total: 15s\n",
      "2023-05-30 13:47:52.837 [main] INFO  com.graphhopper.reader.osm.OSMReader - Finished reading OSM file: /Users/ivo/Desktop/DUTTv2/1-data/2-gh/osm/amsterdam.osm.pbf, nodes: 183,036, edges: 248,492, zero distance edges: 6,569\n",
      "2023-05-30 13:47:52.872 [main] INFO  c.g.r.s.PrepareRoutingSubnetworks - Start marking subnetworks, prepare.min_network_size: 200, threads: 1, nodes: 183,036, edges: 248,492, jobs: [car_subnetwork|fastest|car_average_speed, bike_subnetwork|fastest|bike_average_speed, foot_subnetwork|fastest|foot_average_speed, pt_subnetwork|fastest|foot_average_speed], totalMB:8192, usedMB:774\n",
      "2023-05-30 13:47:53.492 [pool-4-thread-1] INFO  c.g.r.s.PrepareRoutingSubnetworks - car - Found 321464 subnetworks (320806 single edges and 658 components with more than one edge, total nodes: 496984), took: 0.6041231s\n",
      "2023-05-30 13:47:53.583 [pool-4-thread-1] INFO  c.g.r.s.PrepareRoutingSubnetworks - car - Marked 321462 subnetworks (biggest: 178 edges) -> 2 components(s) remain (smallest: 532, biggest: 170892 edges), total marked edges: 3214, took: 0.09085944s\n",
      "2023-05-30 13:47:54.691 [pool-4-thread-1] INFO  c.g.r.s.PrepareRoutingSubnetworks - bike - Found 117806 subnetworks (116287 single edges and 1519 components with more than one edge, total nodes: 496984), took: 1.1048124s\n",
      "2023-05-30 13:47:54.711 [pool-4-thread-1] INFO  c.g.r.s.PrepareRoutingSubnetworks - bike - Marked 117805 subnetworks (biggest: 168 edges) -> 1 components(s) remain (smallest: 372121, biggest: 372121 edges), total marked edges: 5838, took: 0.020136172s\n",
      "2023-05-30 13:47:55.038 [pool-4-thread-1] INFO  c.g.r.s.PrepareRoutingSubnetworks - foot - Found 67854 subnetworks (66636 single edges and 1218 components with more than one edge, total nodes: 496984), took: 0.32598957s\n",
      "2023-05-30 13:47:55.049 [pool-4-thread-1] INFO  c.g.r.s.PrepareRoutingSubnetworks - foot - Marked 67853 subnetworks (biggest: 180 edges) -> 1 components(s) remain (smallest: 423878, biggest: 423878 edges), total marked edges: 3260, took: 0.011183048s\n",
      "2023-05-30 13:47:55.623 [pool-4-thread-1] INFO  c.g.r.s.PrepareRoutingSubnetworks - pt - Found 67854 subnetworks (66636 single edges and 1218 components with more than one edge, total nodes: 496984), took: 0.5739043s\n",
      "2023-05-30 13:47:55.636 [pool-4-thread-1] INFO  c.g.r.s.PrepareRoutingSubnetworks - pt - Marked 67853 subnetworks (biggest: 180 edges) -> 1 components(s) remain (smallest: 423878, biggest: 423878 edges), total marked edges: 3260, took: 0.012324254s\n",
      "2023-05-30 13:47:55.787 [main] INFO  c.g.r.s.PrepareRoutingSubnetworks - Finished finding and marking subnetworks for 4 jobs, took: 2.916005s, totalMB:8192, usedMB:924\n",
      "2023-05-30 13:47:55.789 [main] INFO  com.graphhopper.GraphHopper - nodes: 183,036, edges: 248,492\n",
      "WARNING: An illegal reflective access operation has occurred\n",
      "WARNING: Illegal reflective access by org.mapdb.Volume$ByteBufferVol (file:/Users/ivo/Desktop/DUTTv2/graphhopper/web/target/graphhopper-web-8.0-SNAPSHOT.jar) to method java.nio.DirectByteBuffer.cleaner()\n",
      "WARNING: Please consider reporting this to the maintainers of org.mapdb.Volume$ByteBufferVol\n",
      "WARNING: Use --illegal-access=warn to enable warnings of further illegal reflective access operations\n",
      "WARNING: All illegal access operations will be denied in a future release\n",
      "java.io.IOError: java.io.IOException: Wrong index checksum, store was not closed properly and could be corrupted.\n",
      "\tat org.mapdb.StoreDirect.checkHeaders(StoreDirect.java:269)\n",
      "\tat org.mapdb.StoreDirect.<init>(StoreDirect.java:207)\n",
      "\tat org.mapdb.DBMaker.extendStoreDirect(DBMaker.java:971)\n",
      "\tat org.mapdb.DBMaker.makeEngine(DBMaker.java:758)\n",
      "\tat org.mapdb.DBMaker.make(DBMaker.java:701)\n",
      "\tat com.graphhopper.gtfs.GtfsStorage.loadExisting(GtfsStorage.java:172)\n",
      "\tat com.graphhopper.gtfs.GraphHopperGtfs.importPublicTransit(GraphHopperGtfs.java:71)\n",
      "\tat com.graphhopper.GraphHopper.postProcessing(GraphHopper.java:1176)\n",
      "\tat com.graphhopper.GraphHopper.process(GraphHopper.java:867)\n",
      "\tat com.graphhopper.GraphHopper.importOrLoad(GraphHopper.java:814)\n",
      "\tat com.graphhopper.http.GraphHopperManaged.start(GraphHopperManaged.java:149)\n",
      "\tat io.dropwizard.lifecycle.JettyManaged.doStart(JettyManaged.java:27)\n",
      "\tat org.eclipse.jetty.util.component.AbstractLifeCycle.start(AbstractLifeCycle.java:73)\n",
      "\tat org.eclipse.jetty.util.component.ContainerLifeCycle.start(ContainerLifeCycle.java:169)\n",
      "\tat org.eclipse.jetty.server.Server.start(Server.java:423)\n",
      "\tat org.eclipse.jetty.util.component.ContainerLifeCycle.doStart(ContainerLifeCycle.java:117)\n",
      "\tat org.eclipse.jetty.server.handler.AbstractHandler.doStart(AbstractHandler.java:97)\n",
      "\tat org.eclipse.jetty.server.Server.doStart(Server.java:387)\n",
      "\tat org.eclipse.jetty.util.component.AbstractLifeCycle.start(AbstractLifeCycle.java:73)\n",
      "\tat io.dropwizard.cli.ServerCommand.run(ServerCommand.java:52)\n",
      "\tat io.dropwizard.cli.EnvironmentCommand.run(EnvironmentCommand.java:68)\n",
      "\tat io.dropwizard.cli.ConfiguredCommand.run(ConfiguredCommand.java:98)\n",
      "\tat io.dropwizard.cli.Cli.run(Cli.java:78)\n",
      "\tat io.dropwizard.Application.run(Application.java:94)\n",
      "\tat com.graphhopper.application.GraphHopperApplication.main(GraphHopperApplication.java:38)\n",
      "Caused by: java.io.IOException: Wrong index checksum, store was not closed properly and could be corrupted.\n",
      "\t... 25 more\n"
     ]
    }
   ],
   "source": [
    "!java -Xmx8g -Xms8g -jar graphhopper/web/target/graphhopper-web-*.jar server 1-data/2-gh/config-duttv2.yml"
   ]
  },
  {
   "cell_type": "code",
   "execution_count": null,
   "metadata": {},
   "outputs": [],
   "source": []
  }
 ],
 "metadata": {
  "kernelspec": {
   "display_name": "DUTTv2",
   "language": "python",
   "name": "python3"
  },
  "language_info": {
   "codemirror_mode": {
    "name": "ipython",
    "version": 3
   },
   "file_extension": ".py",
   "mimetype": "text/x-python",
   "name": "python",
   "nbconvert_exporter": "python",
   "pygments_lexer": "ipython3",
   "version": "3.11.3"
  },
  "orig_nbformat": 4
 },
 "nbformat": 4,
 "nbformat_minor": 2
}
