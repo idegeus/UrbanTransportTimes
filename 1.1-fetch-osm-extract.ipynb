{
 "cells": [
  {
   "attachments": {},
   "cell_type": "markdown",
   "metadata": {},
   "source": [
    "#### Extract OSM extracts and GTFS extracts\n",
    "\n",
    "* https://osmcode.org/osmium-tool/manual.html\n",
    "* https://github.com/triply-at/gtfsutils \n",
    "\n"
   ]
  },
  {
   "cell_type": "code",
   "execution_count": null,
   "metadata": {},
   "outputs": [],
   "source": [
    "# Extract boundingbox\n",
    "bbox = [(4.70317, 52.47143), (5.02670, 52.25626)]\n",
    "osm_src = f\"1-data/2-gh/osm/europe-latest.osm.pbf\" # TODO: Replace by planet.osm.pbf\n",
    "osm_out = f\"1-data/2-gh/osm/amsterdam.osm.pbf\"\n",
    "\n",
    "!osmium extract -b {bbox[0][0]},{bbox[0][1]},{bbox[1][0]},{bbox[1][1]} {osm_src} -o {osm_out} # --overwrite\n",
    "!osmium fileinfo {osm_out}"
   ]
  },
  {
   "cell_type": "code",
   "execution_count": null,
   "metadata": {},
   "outputs": [],
   "source": [
    "gtfs_in   =  \"1-data/2-gh/gtfs/gtfs-nl.zip\"\n",
    "!gtfsutils bounds 1-data/2-gh/gtfs/gtfs-nl.zip"
   ]
  },
  {
   "cell_type": "code",
   "execution_count": null,
   "metadata": {},
   "outputs": [],
   "source": [
    "gtfs_out  = \"1-data/2-gh/gtfs/amsterdam.gtfs.zip\"\n",
    "gtfs_bbox = f' \"[{bbox[0][0]},{bbox[0][1]},{bbox[1][0]},{bbox[1][1]}]\"'\n",
    "\n",
    "# Change parameter -o from intersects to within\n",
    "!gtfsutils filter -t shapes -o within --overwrite -v {gtfs_in} {gtfs_out} {gtfs_bbox}"
   ]
  },
  {
   "cell_type": "code",
   "execution_count": 10,
   "metadata": {},
   "outputs": [
    {
     "name": "stdout",
     "output_type": "stream",
     "text": [
      "gtfsutils 0.0.5\n"
     ]
    }
   ],
   "source": [
    "import shapely.geometry\n",
    "import geopandas as gpd\n",
    "import matplotlib.pyplot as plt\n",
    "\n",
    "import gtfsutils\n",
    "import gtfsutils.filter\n",
    "import gtfsutils.routes\n",
    "\n",
    "print(f\"gtfsutils {gtfsutils.__version__}\")\n"
   ]
  },
  {
   "cell_type": "code",
   "execution_count": null,
   "metadata": {},
   "outputs": [],
   "source": [
    "df_dict = gtfsutils.load_gtfs(gtfs_in)\n"
   ]
  },
  {
   "attachments": {},
   "cell_type": "markdown",
   "metadata": {},
   "source": [
    "### Create GraphHopper"
   ]
  },
  {
   "cell_type": "code",
   "execution_count": null,
   "metadata": {},
   "outputs": [],
   "source": [
    "!docker run -d -v ${PWD}/1-data:/1-data --entrypoint /bin/bash israelhikingmap/graphhopper -c \"java -jar *.jar server 1-data/2-gh/config-duttv2.yml\""
   ]
  },
  {
   "cell_type": "code",
   "execution_count": null,
   "metadata": {},
   "outputs": [],
   "source": [
    "!docker run -v ${PWD}/1-data:/1-data --entrypoint /bin/bash israelhikingmap/graphhopper -c \"java -Xmx10g -Xms10g *.jar server /1-data/2-gh/config-duttv2.yml\""
   ]
  },
  {
   "cell_type": "code",
   "execution_count": 9,
   "metadata": {},
   "outputs": [],
   "source": [
    "!java -Xmx8g -Xms8g -jar graphhopper/web/target/graphhopper-web-*.jar server 1-data/2-gh/config-duttv2.yml"
   ]
  }
 ],
 "metadata": {
  "kernelspec": {
   "display_name": "DUTTv2",
   "language": "python",
   "name": "python3"
  },
  "language_info": {
   "codemirror_mode": {
    "name": "ipython",
    "version": 3
   },
   "file_extension": ".py",
   "mimetype": "text/x-python",
   "name": "python",
   "nbconvert_exporter": "python",
   "pygments_lexer": "ipython3",
   "version": "3.11.3"
  },
  "orig_nbformat": 4
 },
 "nbformat": 4,
 "nbformat_minor": 2
}
