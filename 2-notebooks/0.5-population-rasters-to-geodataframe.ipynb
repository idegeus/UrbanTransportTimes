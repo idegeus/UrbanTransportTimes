{
 "cells": [
  {
   "cell_type": "markdown",
   "metadata": {},
   "source": [
    "# Setup libraries and working data\n",
    "Load libraries and set up working directories."
   ]
  },
  {
   "cell_type": "code",
   "execution_count": 1,
   "metadata": {
    "ExecuteTime": {
     "end_time": "2023-04-24T11:16:34.746075Z",
     "start_time": "2023-04-24T11:16:17.209166Z"
    },
    "init_cell": true
   },
   "outputs": [],
   "source": [
    "import os\n",
    "import os.path\n",
    "import glob\n",
    "import numpy as np\n",
    "import pandas as pd\n",
    "import geopandas as gpd\n",
    "from math import ceil\n",
    "from random import random\n",
    "import json\n",
    "\n",
    "from shapely.geometry import Point\n",
    "from shapely.geometry import shape\n",
    "import matplotlib.pyplot as plt\n",
    "import contextily as ctx\n",
    "from tqdm.notebook import tqdm\n",
    "tqdm.pandas()\n",
    "\n",
    "import rasterio\n",
    "from rasterio.plot import show\n",
    "from rasterio.plot import show_hist\n",
    "from rasterio.mask import mask\n",
    "from rasterio.features import shapes\n",
    "from rasterio.features import dataset_features\n",
    "\n",
    "from pyproj import CRS\n",
    "\n",
    "%matplotlib inline\n",
    "\n",
    "DROOT = '../1-data/'\n",
    "os.makedirs(os.path.join(DROOT, '3-interim', 'populationmasks'), exist_ok=True)\n",
    "\n",
    "pd.set_option('display.max_columns', None)\n"
   ]
  },
  {
   "cell_type": "markdown",
   "metadata": {},
   "source": [
    "# General methods\n",
    "Define methods to be used in the procedures below."
   ]
  },
  {
   "cell_type": "code",
   "execution_count": 2,
   "metadata": {
    "ExecuteTime": {
     "end_time": "2020-07-07T09:49:32.758577Z",
     "start_time": "2020-07-07T09:49:32.754229Z"
    },
    "init_cell": true
   },
   "outputs": [],
   "source": [
    "# Convert single GeoDataFrame Polygon to GeoJSON\n",
    "def get_mask_coords(gdf): \n",
    "    \"\"\"Get the first polygon in a GeoDataFrame as GeoJSON.\"\"\"\n",
    "    return [json.loads(gdf.to_json())['features'][0]['geometry']]"
   ]
  },
  {
   "cell_type": "code",
   "execution_count": 3,
   "metadata": {
    "ExecuteTime": {
     "end_time": "2020-07-07T09:49:32.768582Z",
     "start_time": "2020-07-07T09:49:32.762392Z"
    },
    "init_cell": true
   },
   "outputs": [],
   "source": [
    "def mask_popcenter_from_raster(gdf_entry, raster, tiff_out):\n",
    "    \n",
    "    out_img, out_transform = mask(\n",
    "        dataset=raster, \n",
    "        shapes=get_mask_coords(gdf_entry), \n",
    "        crop=True)\n",
    "\n",
    "    # Write out for usage a bit further onwards due to limitations in rasterio.\n",
    "    out_meta = pop.meta.copy()\n",
    "    out_meta.update({\n",
    "        \"driver\": \"GTiff\",\n",
    "         \"height\": out_img.shape[1],\n",
    "         \"width\": out_img.shape[2],\n",
    "         \"transform\": out_transform,\n",
    "         \"crs\": pop.crs\n",
    "    })\n",
    "\n",
    "    with rasterio.open(tiff_out, \"w\", **out_meta) as dest:\n",
    "        dest.write(out_img)"
   ]
  },
  {
   "cell_type": "markdown",
   "metadata": {},
   "source": [
    "### Load information files"
   ]
  },
  {
   "cell_type": "code",
   "execution_count": 4,
   "metadata": {
    "ExecuteTime": {
     "end_time": "2020-07-07T09:49:32.799836Z",
     "start_time": "2020-07-07T09:49:32.771508Z"
    },
    "init_cell": true,
    "scrolled": false
   },
   "outputs": [
    {
     "data": {
      "text/plain": [
       "((18000, 36082),\n",
       " BoundingBox(left=-18041000.0, bottom=-9000000.0, right=18041000.0, top=9000000.0),\n",
       " '+proj=moll +lon_0=0 +x_0=0 +y_0=0 +datum=WGS84 +units=m +no_defs=True')"
      ]
     },
     "execution_count": 4,
     "metadata": {},
     "output_type": "execute_result"
    }
   ],
   "source": [
    "# Get population data for the whole world.\n",
    "pop = rasterio.open(os.path.join(\n",
    "    DROOT,\n",
    "    '2-external',\n",
    "    'GHS_POP_E2020_GLOBE_R2022A_54009_1000_V1_0',\n",
    "    'GHS_POP_E2020_GLOBE_R2022A_54009_1000_V1_0.tif'))\n",
    "pop.shape, pop.bounds, pop.crs.to_proj4()"
   ]
  },
  {
   "cell_type": "code",
   "execution_count": 5,
   "metadata": {
    "ExecuteTime": {
     "end_time": "2020-07-07T09:49:38.188242Z",
     "start_time": "2020-07-07T09:49:32.802156Z"
    },
    "init_cell": true,
    "scrolled": true
   },
   "outputs": [
    {
     "ename": "KeyboardInterrupt",
     "evalue": "",
     "output_type": "error",
     "traceback": [
      "\u001b[0;31m---------------------------------------------------------------------------\u001b[0m",
      "\u001b[0;31mKeyboardInterrupt\u001b[0m                         Traceback (most recent call last)",
      "Cell \u001b[0;32mIn[5], line 2\u001b[0m\n\u001b[1;32m      1\u001b[0m \u001b[38;5;66;03m# Open Urban Centers file, it's pretty big.\u001b[39;00m\n\u001b[0;32m----> 2\u001b[0m urbancenter_gdf \u001b[38;5;241m=\u001b[39m \u001b[43mgpd\u001b[49m\u001b[38;5;241;43m.\u001b[39;49m\u001b[43mread_file\u001b[49m\u001b[43m(\u001b[49m\u001b[43m \u001b[49m\u001b[43mos\u001b[49m\u001b[38;5;241;43m.\u001b[39;49m\u001b[43mpath\u001b[49m\u001b[38;5;241;43m.\u001b[39;49m\u001b[43mjoin\u001b[49m\u001b[43m(\u001b[49m\n\u001b[1;32m      3\u001b[0m \u001b[43m    \u001b[49m\u001b[43mDROOT\u001b[49m\u001b[43m,\u001b[49m\u001b[43m \u001b[49m\n\u001b[1;32m      4\u001b[0m \u001b[43m    \u001b[49m\u001b[38;5;124;43m'\u001b[39;49m\u001b[38;5;124;43m2-external\u001b[39;49m\u001b[38;5;124;43m'\u001b[39;49m\u001b[43m,\u001b[49m\n\u001b[1;32m      5\u001b[0m \u001b[43m    \u001b[49m\u001b[38;5;124;43m'\u001b[39;49m\u001b[38;5;124;43mGHS_STAT_UCDB2015MT_GLOBE_R2019A\u001b[39;49m\u001b[38;5;124;43m'\u001b[39;49m\u001b[43m,\u001b[49m\n\u001b[1;32m      6\u001b[0m \u001b[43m    \u001b[49m\u001b[38;5;124;43m'\u001b[39;49m\u001b[38;5;124;43mGHS_STAT_UCDB2015MT_GLOBE_R2019A_V1_2.gpkg\u001b[39;49m\u001b[38;5;124;43m'\u001b[39;49m\u001b[43m)\u001b[49m\u001b[43m)\u001b[49m\u001b[38;5;241m.\u001b[39mto_crs(pop\u001b[38;5;241m.\u001b[39mcrs)\n\u001b[1;32m      7\u001b[0m urbancenter_gdf\u001b[38;5;241m.\u001b[39mhead(\u001b[38;5;241m1\u001b[39m)\n",
      "File \u001b[0;32m~/opt/anaconda3/envs/DUTTv2/lib/python3.11/site-packages/geopandas/io/file.py:259\u001b[0m, in \u001b[0;36m_read_file\u001b[0;34m(filename, bbox, mask, rows, engine, **kwargs)\u001b[0m\n\u001b[1;32m    256\u001b[0m     path_or_bytes \u001b[38;5;241m=\u001b[39m filename\n\u001b[1;32m    258\u001b[0m \u001b[38;5;28;01mif\u001b[39;00m engine \u001b[38;5;241m==\u001b[39m \u001b[38;5;124m\"\u001b[39m\u001b[38;5;124mfiona\u001b[39m\u001b[38;5;124m\"\u001b[39m:\n\u001b[0;32m--> 259\u001b[0m     \u001b[38;5;28;01mreturn\u001b[39;00m \u001b[43m_read_file_fiona\u001b[49m\u001b[43m(\u001b[49m\n\u001b[1;32m    260\u001b[0m \u001b[43m        \u001b[49m\u001b[43mpath_or_bytes\u001b[49m\u001b[43m,\u001b[49m\u001b[43m \u001b[49m\u001b[43mfrom_bytes\u001b[49m\u001b[43m,\u001b[49m\u001b[43m \u001b[49m\u001b[43mbbox\u001b[49m\u001b[38;5;241;43m=\u001b[39;49m\u001b[43mbbox\u001b[49m\u001b[43m,\u001b[49m\u001b[43m \u001b[49m\u001b[43mmask\u001b[49m\u001b[38;5;241;43m=\u001b[39;49m\u001b[43mmask\u001b[49m\u001b[43m,\u001b[49m\u001b[43m \u001b[49m\u001b[43mrows\u001b[49m\u001b[38;5;241;43m=\u001b[39;49m\u001b[43mrows\u001b[49m\u001b[43m,\u001b[49m\u001b[43m \u001b[49m\u001b[38;5;241;43m*\u001b[39;49m\u001b[38;5;241;43m*\u001b[39;49m\u001b[43mkwargs\u001b[49m\n\u001b[1;32m    261\u001b[0m \u001b[43m    \u001b[49m\u001b[43m)\u001b[49m\n\u001b[1;32m    262\u001b[0m \u001b[38;5;28;01melif\u001b[39;00m engine \u001b[38;5;241m==\u001b[39m \u001b[38;5;124m\"\u001b[39m\u001b[38;5;124mpyogrio\u001b[39m\u001b[38;5;124m\"\u001b[39m:\n\u001b[1;32m    263\u001b[0m     \u001b[38;5;28;01mreturn\u001b[39;00m _read_file_pyogrio(\n\u001b[1;32m    264\u001b[0m         path_or_bytes, bbox\u001b[38;5;241m=\u001b[39mbbox, mask\u001b[38;5;241m=\u001b[39mmask, rows\u001b[38;5;241m=\u001b[39mrows, \u001b[38;5;241m*\u001b[39m\u001b[38;5;241m*\u001b[39mkwargs\n\u001b[1;32m    265\u001b[0m     )\n",
      "File \u001b[0;32m~/opt/anaconda3/envs/DUTTv2/lib/python3.11/site-packages/geopandas/io/file.py:360\u001b[0m, in \u001b[0;36m_read_file_fiona\u001b[0;34m(path_or_bytes, from_bytes, bbox, mask, rows, where, **kwargs)\u001b[0m\n\u001b[1;32m    356\u001b[0m     df \u001b[38;5;241m=\u001b[39m pd\u001b[38;5;241m.\u001b[39mDataFrame(\n\u001b[1;32m    357\u001b[0m         [record[\u001b[38;5;124m\"\u001b[39m\u001b[38;5;124mproperties\u001b[39m\u001b[38;5;124m\"\u001b[39m] \u001b[38;5;28;01mfor\u001b[39;00m record \u001b[38;5;129;01min\u001b[39;00m f_filt], columns\u001b[38;5;241m=\u001b[39mcolumns\n\u001b[1;32m    358\u001b[0m     )\n\u001b[1;32m    359\u001b[0m \u001b[38;5;28;01melse\u001b[39;00m:\n\u001b[0;32m--> 360\u001b[0m     df \u001b[38;5;241m=\u001b[39m \u001b[43mGeoDataFrame\u001b[49m\u001b[38;5;241;43m.\u001b[39;49m\u001b[43mfrom_features\u001b[49m\u001b[43m(\u001b[49m\n\u001b[1;32m    361\u001b[0m \u001b[43m        \u001b[49m\u001b[43mf_filt\u001b[49m\u001b[43m,\u001b[49m\u001b[43m \u001b[49m\u001b[43mcrs\u001b[49m\u001b[38;5;241;43m=\u001b[39;49m\u001b[43mcrs\u001b[49m\u001b[43m,\u001b[49m\u001b[43m \u001b[49m\u001b[43mcolumns\u001b[49m\u001b[38;5;241;43m=\u001b[39;49m\u001b[43mcolumns\u001b[49m\u001b[43m \u001b[49m\u001b[38;5;241;43m+\u001b[39;49m\u001b[43m \u001b[49m\u001b[43m[\u001b[49m\u001b[38;5;124;43m\"\u001b[39;49m\u001b[38;5;124;43mgeometry\u001b[39;49m\u001b[38;5;124;43m\"\u001b[39;49m\u001b[43m]\u001b[49m\n\u001b[1;32m    362\u001b[0m \u001b[43m    \u001b[49m\u001b[43m)\u001b[49m\n\u001b[1;32m    363\u001b[0m \u001b[38;5;28;01mfor\u001b[39;00m k \u001b[38;5;129;01min\u001b[39;00m datetime_fields:\n\u001b[1;32m    364\u001b[0m     as_dt \u001b[38;5;241m=\u001b[39m pd\u001b[38;5;241m.\u001b[39mto_datetime(df[k], errors\u001b[38;5;241m=\u001b[39m\u001b[38;5;124m\"\u001b[39m\u001b[38;5;124mignore\u001b[39m\u001b[38;5;124m\"\u001b[39m)\n",
      "File \u001b[0;32m~/opt/anaconda3/envs/DUTTv2/lib/python3.11/site-packages/geopandas/geodataframe.py:632\u001b[0m, in \u001b[0;36mGeoDataFrame.from_features\u001b[0;34m(cls, features, crs, columns)\u001b[0m\n\u001b[1;32m    629\u001b[0m rows \u001b[38;5;241m=\u001b[39m []\n\u001b[1;32m    630\u001b[0m \u001b[38;5;28;01mfor\u001b[39;00m feature \u001b[38;5;129;01min\u001b[39;00m features_lst:\n\u001b[1;32m    631\u001b[0m     \u001b[38;5;66;03m# load geometry\u001b[39;00m\n\u001b[0;32m--> 632\u001b[0m     \u001b[38;5;28;01mif\u001b[39;00m \u001b[38;5;28mhasattr\u001b[39m(feature, \u001b[38;5;124m\"\u001b[39m\u001b[38;5;124m__geo_interface__\u001b[39m\u001b[38;5;124m\"\u001b[39m):\n\u001b[1;32m    633\u001b[0m         feature \u001b[38;5;241m=\u001b[39m feature\u001b[38;5;241m.\u001b[39m__geo_interface__\n\u001b[1;32m    634\u001b[0m     row \u001b[38;5;241m=\u001b[39m {\n\u001b[1;32m    635\u001b[0m         \u001b[38;5;124m\"\u001b[39m\u001b[38;5;124mgeometry\u001b[39m\u001b[38;5;124m\"\u001b[39m: shape(feature[\u001b[38;5;124m\"\u001b[39m\u001b[38;5;124mgeometry\u001b[39m\u001b[38;5;124m\"\u001b[39m]) \u001b[38;5;28;01mif\u001b[39;00m feature[\u001b[38;5;124m\"\u001b[39m\u001b[38;5;124mgeometry\u001b[39m\u001b[38;5;124m\"\u001b[39m] \u001b[38;5;28;01melse\u001b[39;00m \u001b[38;5;28;01mNone\u001b[39;00m\n\u001b[1;32m    636\u001b[0m     }\n",
      "File \u001b[0;32m~/opt/anaconda3/envs/DUTTv2/lib/python3.11/site-packages/fiona/model.py:354\u001b[0m, in \u001b[0;36mFeature.__geo_interface__\u001b[0;34m(self)\u001b[0m\n\u001b[1;32m    352\u001b[0m \u001b[38;5;129m@property\u001b[39m\n\u001b[1;32m    353\u001b[0m \u001b[38;5;28;01mdef\u001b[39;00m \u001b[38;5;21m__geo_interface__\u001b[39m(\u001b[38;5;28mself\u001b[39m):\n\u001b[0;32m--> 354\u001b[0m     \u001b[38;5;28;01mreturn\u001b[39;00m \u001b[43mObjectEncoder\u001b[49m\u001b[43m(\u001b[49m\u001b[43m)\u001b[49m\u001b[38;5;241;43m.\u001b[39;49m\u001b[43mdefault\u001b[49m\u001b[43m(\u001b[49m\u001b[38;5;28;43mself\u001b[39;49m\u001b[43m)\u001b[49m\n",
      "File \u001b[0;32m~/opt/anaconda3/envs/DUTTv2/lib/python3.11/site-packages/fiona/model.py:381\u001b[0m, in \u001b[0;36mObjectEncoder.default\u001b[0;34m(self, o)\u001b[0m\n\u001b[1;32m    379\u001b[0m         o_dict[\u001b[38;5;124m\"\u001b[39m\u001b[38;5;124mgeometry\u001b[39m\u001b[38;5;124m\"\u001b[39m] \u001b[38;5;241m=\u001b[39m ObjectEncoder()\u001b[38;5;241m.\u001b[39mdefault(o\u001b[38;5;241m.\u001b[39mgeometry)\n\u001b[1;32m    380\u001b[0m     \u001b[38;5;28;01mif\u001b[39;00m o\u001b[38;5;241m.\u001b[39mproperties \u001b[38;5;129;01mis\u001b[39;00m \u001b[38;5;129;01mnot\u001b[39;00m \u001b[38;5;28;01mNone\u001b[39;00m:\n\u001b[0;32m--> 381\u001b[0m         o_dict[\u001b[38;5;124m\"\u001b[39m\u001b[38;5;124mproperties\u001b[39m\u001b[38;5;124m\"\u001b[39m] \u001b[38;5;241m=\u001b[39m \u001b[43mObjectEncoder\u001b[49m\u001b[43m(\u001b[49m\u001b[43m)\u001b[49m\u001b[38;5;241;43m.\u001b[39;49m\u001b[43mdefault\u001b[49m\u001b[43m(\u001b[49m\u001b[43mo\u001b[49m\u001b[38;5;241;43m.\u001b[39;49m\u001b[43mproperties\u001b[49m\u001b[43m)\u001b[49m\n\u001b[1;32m    382\u001b[0m     \u001b[38;5;28;01mreturn\u001b[39;00m o_dict\n\u001b[1;32m    383\u001b[0m \u001b[38;5;28;01melse\u001b[39;00m:\n",
      "File \u001b[0;32m~/opt/anaconda3/envs/DUTTv2/lib/python3.11/site-packages/fiona/model.py:374\u001b[0m, in \u001b[0;36mObjectEncoder.default\u001b[0;34m(self, o)\u001b[0m\n\u001b[1;32m    372\u001b[0m \u001b[38;5;28;01mdef\u001b[39;00m \u001b[38;5;21mdefault\u001b[39m(\u001b[38;5;28mself\u001b[39m, o):\n\u001b[1;32m    373\u001b[0m     \u001b[38;5;28;01mif\u001b[39;00m \u001b[38;5;28misinstance\u001b[39m(o, (Geometry, Properties)):\n\u001b[0;32m--> 374\u001b[0m         \u001b[38;5;28;01mreturn\u001b[39;00m \u001b[43m{\u001b[49m\u001b[43mk\u001b[49m\u001b[43m:\u001b[49m\u001b[43m \u001b[49m\u001b[43mv\u001b[49m\u001b[43m \u001b[49m\u001b[38;5;28;43;01mfor\u001b[39;49;00m\u001b[43m \u001b[49m\u001b[43mk\u001b[49m\u001b[43m,\u001b[49m\u001b[43m \u001b[49m\u001b[43mv\u001b[49m\u001b[43m \u001b[49m\u001b[38;5;129;43;01min\u001b[39;49;00m\u001b[43m \u001b[49m\u001b[43mo\u001b[49m\u001b[38;5;241;43m.\u001b[39;49m\u001b[43mitems\u001b[49m\u001b[43m(\u001b[49m\u001b[43m)\u001b[49m\u001b[43m \u001b[49m\u001b[38;5;28;43;01mif\u001b[39;49;00m\u001b[43m \u001b[49m\u001b[43mv\u001b[49m\u001b[43m \u001b[49m\u001b[38;5;129;43;01mis\u001b[39;49;00m\u001b[43m \u001b[49m\u001b[38;5;129;43;01mnot\u001b[39;49;00m\u001b[43m \u001b[49m\u001b[38;5;28;43;01mNone\u001b[39;49;00m\u001b[43m}\u001b[49m\n\u001b[1;32m    375\u001b[0m     \u001b[38;5;28;01melif\u001b[39;00m \u001b[38;5;28misinstance\u001b[39m(o, Feature):\n\u001b[1;32m    376\u001b[0m         o_dict \u001b[38;5;241m=\u001b[39m \u001b[38;5;28mdict\u001b[39m(\u001b[38;5;241m*\u001b[39m\u001b[38;5;241m*\u001b[39mo)\n",
      "File \u001b[0;32m~/opt/anaconda3/envs/DUTTv2/lib/python3.11/site-packages/fiona/model.py:374\u001b[0m, in \u001b[0;36m<dictcomp>\u001b[0;34m(.0)\u001b[0m\n\u001b[1;32m    372\u001b[0m \u001b[38;5;28;01mdef\u001b[39;00m \u001b[38;5;21mdefault\u001b[39m(\u001b[38;5;28mself\u001b[39m, o):\n\u001b[1;32m    373\u001b[0m     \u001b[38;5;28;01mif\u001b[39;00m \u001b[38;5;28misinstance\u001b[39m(o, (Geometry, Properties)):\n\u001b[0;32m--> 374\u001b[0m         \u001b[38;5;28;01mreturn\u001b[39;00m {k: v \u001b[38;5;28;01mfor\u001b[39;00m k, v \u001b[38;5;129;01min\u001b[39;00m o\u001b[38;5;241m.\u001b[39mitems() \u001b[38;5;28;01mif\u001b[39;00m v \u001b[38;5;129;01mis\u001b[39;00m \u001b[38;5;129;01mnot\u001b[39;00m \u001b[38;5;28;01mNone\u001b[39;00m}\n\u001b[1;32m    375\u001b[0m     \u001b[38;5;28;01melif\u001b[39;00m \u001b[38;5;28misinstance\u001b[39m(o, Feature):\n\u001b[1;32m    376\u001b[0m         o_dict \u001b[38;5;241m=\u001b[39m \u001b[38;5;28mdict\u001b[39m(\u001b[38;5;241m*\u001b[39m\u001b[38;5;241m*\u001b[39mo)\n",
      "File \u001b[0;32m<frozen _collections_abc>:861\u001b[0m, in \u001b[0;36m__iter__\u001b[0;34m(self)\u001b[0m\n",
      "File \u001b[0;32m~/opt/anaconda3/envs/DUTTv2/lib/python3.11/site-packages/fiona/model.py:134\u001b[0m, in \u001b[0;36mObject.__getitem__\u001b[0;34m(self, item)\u001b[0m\n\u001b[1;32m    132\u001b[0m \u001b[38;5;28;01mdef\u001b[39;00m \u001b[38;5;21m__getitem__\u001b[39m(\u001b[38;5;28mself\u001b[39m, item):\n\u001b[1;32m    133\u001b[0m     props \u001b[38;5;241m=\u001b[39m \u001b[38;5;28mself\u001b[39m\u001b[38;5;241m.\u001b[39m_props()\n\u001b[0;32m--> 134\u001b[0m     \u001b[43mprops\u001b[49m\u001b[38;5;241;43m.\u001b[39;49m\u001b[43mupdate\u001b[49m\u001b[43m(\u001b[49m\u001b[38;5;241;43m*\u001b[39;49m\u001b[38;5;241;43m*\u001b[39;49m\u001b[38;5;28;43mself\u001b[39;49m\u001b[38;5;241;43m.\u001b[39;49m\u001b[43m_data\u001b[49m\u001b[43m)\u001b[49m\n\u001b[1;32m    135\u001b[0m     \u001b[38;5;28;01mreturn\u001b[39;00m props[item]\n",
      "\u001b[0;31mKeyboardInterrupt\u001b[0m: "
     ]
    }
   ],
   "source": [
    "# Open Urban Centers file, it's pretty big.\n",
    "urbancenter_gdf = gpd.read_file( os.path.join(\n",
    "    DROOT, \n",
    "    '2-external',\n",
    "    'GHS_STAT_UCDB2015MT_GLOBE_R2019A',\n",
    "    'GHS_STAT_UCDB2015MT_GLOBE_R2019A_V1_2.gpkg')).to_crs(pop.crs)\n",
    "urbancenter_gdf.head(1)"
   ]
  },
  {
   "cell_type": "code",
   "execution_count": null,
   "metadata": {},
   "outputs": [],
   "source": [
    "name = input('Name: ')\n",
    "result = urbancenter_gdf[urbancenter_gdf.UC_NM_LST.str.contains(name)]\n",
    "ax = result.plot()\n",
    "ctx.add_basemap(ax, crs=result.crs)\n",
    "result[['CTR_MN_NM', 'CTR_MN_ISO', 'XC_ISO_LST', 'UC_NM_MN', 'UC_NM_LST']]"
   ]
  },
  {
   "cell_type": "code",
   "execution_count": null,
   "metadata": {
    "ExecuteTime": {
     "end_time": "2020-07-07T09:49:38.188242Z",
     "start_time": "2020-07-07T09:49:32.802156Z"
    },
    "init_cell": true,
    "scrolled": false
   },
   "outputs": [],
   "source": [
    "# Open Functional Urban Areas file\n",
    "fua_gdf = gpd.read_file( os.path.join(\n",
    "    DROOT, \n",
    "    '2-external',\n",
    "    'GHS_FUA_UCDB2015_GLOBE_R2019A_54009_1K_V1_0',\n",
    "    'GHS_FUA_UCDB2015_GLOBE_R2019A_54009_1K_V1_0.gpkg')).to_crs(pop.crs)\n",
    "\n",
    "fua_gdf.head(2)"
   ]
  },
  {
   "cell_type": "code",
   "execution_count": null,
   "metadata": {
    "scrolled": false
   },
   "outputs": [],
   "source": [
    "# cities = pd.read_excel('../1-data/1-research/cities.xlsx', index_col=0)\n",
    "# countries = cities['Country'].to_list()\n",
    "# cities['ID_HDC_G0'] = np.nan\n",
    "# ids = cities['ID_HDC_G0'].to_list()\n",
    "# for row in cities.itertuples():\n",
    "#     result = urbancenter_gdf[(urbancenter_gdf.UC_NM_LST.str.contains(row.City)) & \n",
    "#                              (urbancenter_gdf.CTR_MN_ISO == countries[row.Index])]\n",
    "#     i = 0\n",
    "#     if len(result) > 1:\n",
    "#         print(result[['ID_HDC_G0', 'CTR_MN_NM', 'CTR_MN_ISO', 'XC_ISO_LST', 'UC_NM_MN', 'UC_NM_LST']])\n",
    "#         i = input()\n",
    "#     ids[row.Index] = result.iloc[int(i)].ID_HDC_G0\n",
    "    \n",
    "# # cities['ID_HDC_G0'] = ids\n",
    "# # cities.to_excel('../1-data/1-research/cities.xlsx')"
   ]
  },
  {
   "cell_type": "code",
   "execution_count": null,
   "metadata": {},
   "outputs": [],
   "source": [
    "name = input('Name (Barcelona / Amsterdam): ')\n",
    "country = input('Country ISO (ESP / NLD): ')\n",
    "result = fua_gdf[(fua_gdf.eFUA_name.str.contains(name)) & (fua_gdf.Cntry_ISO == country)]\n",
    "ax = result.plot()\n",
    "ctx.add_basemap(ax, crs=result.crs)\n",
    "result[['eFUA_ID', 'eFUA_name', 'Cntry_ISO', 'FUA_p_2015']]"
   ]
  },
  {
   "cell_type": "markdown",
   "metadata": {},
   "source": [
    "# Procedures\n",
    "Load two files and start masking the listed cities."
   ]
  },
  {
   "cell_type": "code",
   "execution_count": null,
   "metadata": {},
   "outputs": [],
   "source": [
    "image.max()"
   ]
  },
  {
   "cell_type": "code",
   "execution_count": null,
   "metadata": {
    "scrolled": false
   },
   "outputs": [],
   "source": [
    "plt.imshow(image)"
   ]
  },
  {
   "cell_type": "code",
   "execution_count": null,
   "metadata": {
    "ExecuteTime": {
     "end_time": "2020-07-07T10:50:20.522586Z",
     "start_time": "2020-07-07T10:49:16.785335Z"
    },
    "scrolled": false
   },
   "outputs": [],
   "source": [
    "city_list_df = pd.read_excel(os.path.join(DROOT, '1-research', 'cities.xlsx'))\n",
    "city_list_itr = tqdm(city_list_df.itertuples(), leave=False, total=len(city_list_df))\n",
    "\n",
    "os.makedirs(os.path.join(DROOT, '3-interim', 'populationmasks'), exist_ok=True)\n",
    "\n",
    "# Get masked population dataframes for all mentioned cities.\n",
    "for city in city_list_itr:\n",
    "    \n",
    "    city_list_itr.set_description(f\"Current city: {city.City}\")\n",
    "\n",
    "    tiff_path = os.path.join(DROOT, '3-interim', 'populationmasks', \n",
    "                             f\"{city.ID_HDC_G0}.tiff\")\n",
    "    pcl_path  = os.path.join(DROOT, '3-interim', 'populationmasks', \n",
    "                             f\"{city.ID_HDC_G0}.pcl\")\n",
    "    \n",
    "    # If city already done, skip this.\n",
    "    if(os.path.exists(tiff_path) and os.path.exists(pcl_path)):\n",
    "        continue;\n",
    "    \n",
    "    # Write out a masked selection with city population.\n",
    "    mask_popcenter_from_raster(\n",
    "        gdf_entry=urbancenter_gdf[urbancenter_gdf.ID_HDC_G0 == city.ID_HDC_G0],\n",
    "        raster=pop,\n",
    "        tiff_out=tiff_path\n",
    "    )\n",
    "    \n",
    "    # Convert the masked tiff to geojson for GeoPandas to use.\n",
    "    # This is doing the heavy lifting!\n",
    "    with rasterio.open(tiff_path) as raster:\n",
    "        image = raster.read(1).astype(\"float32\")\n",
    "        \n",
    "        # Add tiny random deviation (<1) so units don't join together\n",
    "        #   in the next shapes() method. \n",
    "        rand_add = np.random.random(image.shape)\n",
    "        rand_add[image == -200] = 0\n",
    "        image += rand_add\n",
    "        \n",
    "        crs = raster.crs\n",
    "        list_pop = [\n",
    "            {'cell_pop': value, 'geometry': shape(shp)}\n",
    "            for i, (shp, value) \n",
    "            in enumerate(shapes(image, transform=raster.transform))\n",
    "            if value > raster.nodata\n",
    "        ]\n",
    "    \n",
    "    # Read in as a GeoPandas dataset and write out. \n",
    "    gdf_pop = gpd.GeoDataFrame(list_pop, crs=crs)\n",
    "    gdf_pop.cell_pop = np.maximum(gdf_pop.cell_pop, 0)\n",
    "    gdf_pop.to_pickle(pcl_path)\n"
   ]
  },
  {
   "cell_type": "code",
   "execution_count": null,
   "metadata": {},
   "outputs": [],
   "source": []
  }
 ],
 "metadata": {
  "celltoolbar": "Initialization Cell",
  "kernelspec": {
   "display_name": "Python 3 (ipykernel)",
   "language": "python",
   "name": "python3"
  },
  "language_info": {
   "codemirror_mode": {
    "name": "ipython",
    "version": 3
   },
   "file_extension": ".py",
   "mimetype": "text/x-python",
   "name": "python",
   "nbconvert_exporter": "python",
   "pygments_lexer": "ipython3",
   "version": "3.11.3"
  },
  "notify_time": "10"
 },
 "nbformat": 4,
 "nbformat_minor": 4
}
