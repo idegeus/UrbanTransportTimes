{
 "cells": [
  {
   "cell_type": "code",
   "execution_count": 7,
   "id": "738960c8",
   "metadata": {},
   "outputs": [],
   "source": [
    "import os\n",
    "from shapely.geometry import Point, Polygon, MultiPolygon\n",
    "from datetime import datetime\n",
    "import pandas as pd\n",
    "import numpy as np\n",
    "import geopandas as gpd\n",
    "import contextily as ctx\n",
    "import sqlite3 as sl\n",
    "\n",
    "import logging\n",
    "logging.getLogger().setLevel(logging.INFO) # DEBUG, INFO or WARN\n",
    "\n",
    "from dotenv import load_dotenv\n",
    "load_dotenv()\n",
    "\n",
    "from bing_helper import Bing\n",
    "\n",
    "DROOT = '../1-data/'\n",
    "os.makedirs(os.path.join(DROOT, '3-interim', 'populationmasks'), exist_ok=True)"
   ]
  },
  {
   "cell_type": "code",
   "execution_count": 8,
   "id": "730309bb",
   "metadata": {},
   "outputs": [
    {
     "data": {
      "text/html": [
       "<div>\n",
       "<style scoped>\n",
       "    .dataframe tbody tr th:only-of-type {\n",
       "        vertical-align: middle;\n",
       "    }\n",
       "\n",
       "    .dataframe tbody tr th {\n",
       "        vertical-align: top;\n",
       "    }\n",
       "\n",
       "    .dataframe thead th {\n",
       "        text-align: right;\n",
       "    }\n",
       "</style>\n",
       "<table border=\"1\" class=\"dataframe\">\n",
       "  <thead>\n",
       "    <tr style=\"text-align: right;\">\n",
       "      <th></th>\n",
       "      <th>City</th>\n",
       "      <th>ctr_name</th>\n",
       "      <th>ctr_lat</th>\n",
       "      <th>ctr_lon</th>\n",
       "      <th>cells</th>\n",
       "      <th>Country</th>\n",
       "      <th>ID_HDC_G0</th>\n",
       "    </tr>\n",
       "  </thead>\n",
       "  <tbody>\n",
       "    <tr>\n",
       "      <th>0</th>\n",
       "      <td>Vienna</td>\n",
       "      <td>Rathaus Wien</td>\n",
       "      <td>48.21080</td>\n",
       "      <td>16.35784</td>\n",
       "      <td>4381</td>\n",
       "      <td>AUT</td>\n",
       "      <td>3027</td>\n",
       "    </tr>\n",
       "    <tr>\n",
       "      <th>1</th>\n",
       "      <td>Graz</td>\n",
       "      <td>Hauptplatz Graz</td>\n",
       "      <td>47.06955</td>\n",
       "      <td>15.43383</td>\n",
       "      <td>1168</td>\n",
       "      <td>AUT</td>\n",
       "      <td>3000</td>\n",
       "    </tr>\n",
       "    <tr>\n",
       "      <th>2</th>\n",
       "      <td>Brussels</td>\n",
       "      <td>Brussels Town hall</td>\n",
       "      <td>50.84642</td>\n",
       "      <td>4.35232</td>\n",
       "      <td>3747</td>\n",
       "      <td>BEL</td>\n",
       "      <td>2135</td>\n",
       "    </tr>\n",
       "    <tr>\n",
       "      <th>3</th>\n",
       "      <td>Berlin</td>\n",
       "      <td>Old City Hall</td>\n",
       "      <td>52.51687</td>\n",
       "      <td>13.41160</td>\n",
       "      <td>5187</td>\n",
       "      <td>DEU</td>\n",
       "      <td>2851</td>\n",
       "    </tr>\n",
       "    <tr>\n",
       "      <th>4</th>\n",
       "      <td>Hamburg</td>\n",
       "      <td>Rathaus</td>\n",
       "      <td>53.55035</td>\n",
       "      <td>9.99232</td>\n",
       "      <td>4912</td>\n",
       "      <td>DEU</td>\n",
       "      <td>2531</td>\n",
       "    </tr>\n",
       "  </tbody>\n",
       "</table>\n",
       "</div>"
      ],
      "text/plain": [
       "       City            ctr_name   ctr_lat   ctr_lon  cells Country  ID_HDC_G0\n",
       "0    Vienna        Rathaus Wien  48.21080  16.35784   4381     AUT       3027\n",
       "1      Graz     Hauptplatz Graz  47.06955  15.43383   1168     AUT       3000\n",
       "2  Brussels  Brussels Town hall  50.84642   4.35232   3747     BEL       2135\n",
       "3    Berlin       Old City Hall  52.51687  13.41160   5187     DEU       2851\n",
       "4   Hamburg             Rathaus  53.55035   9.99232   4912     DEU       2531"
      ]
     },
     "execution_count": 8,
     "metadata": {},
     "output_type": "execute_result"
    }
   ],
   "source": [
    "cities = pd.read_excel(os.path.join(DROOT, '1-research', 'cities.xlsx'), index_col=0)\n",
    "cities.head(5)"
   ]
  },
  {
   "cell_type": "code",
   "execution_count": 9,
   "id": "a09b7315",
   "metadata": {},
   "outputs": [],
   "source": [
    "KEY = os.environ['BING_API_KEY']\n",
    "CACHE = os.path.join(DROOT, '3-interim', 'bing_cache.db')\n",
    "client = Bing(KEY, CACHE)"
   ]
  },
  {
   "cell_type": "code",
   "execution_count": null,
   "id": "29b0e4dc",
   "metadata": {
    "scrolled": true
   },
   "outputs": [
    {
     "name": "stdout",
     "output_type": "stream",
     "text": [
      "Vienna\n"
     ]
    },
    {
     "name": "stderr",
     "output_type": "stream",
     "text": [
      "INFO:root:Out of total 1960, 100.00% cached.\n"
     ]
    },
    {
     "name": "stdout",
     "output_type": "stream",
     "text": [
      "Graz\n"
     ]
    },
    {
     "name": "stderr",
     "output_type": "stream",
     "text": [
      "INFO:root:Out of total 365, 100.00% cached.\n"
     ]
    },
    {
     "name": "stdout",
     "output_type": "stream",
     "text": [
      "Brussels\n"
     ]
    },
    {
     "name": "stderr",
     "output_type": "stream",
     "text": [
      "INFO:root:Out of total 1330, 100.00% cached.\n"
     ]
    },
    {
     "name": "stdout",
     "output_type": "stream",
     "text": [
      "Berlin\n"
     ]
    },
    {
     "name": "stderr",
     "output_type": "stream",
     "text": [
      "INFO:root:Out of total 3430, 100.00% cached.\n"
     ]
    },
    {
     "name": "stdout",
     "output_type": "stream",
     "text": [
      "Hamburg\n"
     ]
    },
    {
     "name": "stderr",
     "output_type": "stream",
     "text": [
      "INFO:root:Out of total 2595, 100.00% cached.\n"
     ]
    },
    {
     "name": "stdout",
     "output_type": "stream",
     "text": [
      "Copenhagen\n"
     ]
    },
    {
     "name": "stderr",
     "output_type": "stream",
     "text": [
      "INFO:root:Out of total 1940, 100.00% cached.\n",
      "INFO:root:Out of total 415, 100.00% cached.\n"
     ]
    },
    {
     "name": "stdout",
     "output_type": "stream",
     "text": [
      "Aarhus\n",
      "Madrid\n"
     ]
    },
    {
     "name": "stderr",
     "output_type": "stream",
     "text": [
      "INFO:root:Out of total 3905, 100.00% cached.\n"
     ]
    },
    {
     "name": "stdout",
     "output_type": "stream",
     "text": [
      "Barcelona\n"
     ]
    },
    {
     "name": "stderr",
     "output_type": "stream",
     "text": [
      "INFO:root:Out of total 2915, 100.00% cached.\n"
     ]
    },
    {
     "name": "stdout",
     "output_type": "stream",
     "text": [
      "Paris\n"
     ]
    },
    {
     "name": "stderr",
     "output_type": "stream",
     "text": [
      "INFO:root:Out of total 8190, 90.24% cached.\n",
      "INFO:root:Currently fetching 2046-1377-driving-peak-45m-v0\n",
      "INFO:root:Currently fetching 2046-1478-driving-peak-25m-v0\n",
      "INFO:root:Currently fetching 2046-1478-driving-peak-35m-v0\n",
      "INFO:root:Currently fetching 2046-1478-driving-peak-45m-v0\n",
      "INFO:root:Currently fetching 2046-1479-driving-peak-5m-v0\n",
      "INFO:root:Currently fetching 2046-1479-driving-peak-15m-v0\n",
      "INFO:root:Currently fetching 2046-1479-driving-peak-25m-v0\n",
      "INFO:root:Currently fetching 2046-1479-driving-peak-35m-v0\n",
      "INFO:root:Currently fetching 2046-1479-driving-peak-45m-v0\n",
      "INFO:root:Currently fetching 2046-1480-driving-peak-5m-v0\n",
      "INFO:root:Currently fetching 2046-1480-driving-peak-15m-v0\n",
      "INFO:root:Currently fetching 2046-1480-driving-peak-25m-v0\n",
      "INFO:root:Currently fetching 2046-1480-driving-peak-35m-v0\n",
      "INFO:root:Currently fetching 2046-1480-driving-peak-45m-v0\n",
      "INFO:root:Currently fetching 2046-1481-driving-peak-5m-v0\n",
      "INFO:root:Currently fetching 2046-1481-driving-peak-15m-v0\n",
      "INFO:root:Currently fetching 2046-1481-driving-peak-25m-v0\n",
      "INFO:root:Currently fetching 2046-1481-driving-peak-35m-v0\n",
      "INFO:root:Currently fetching 2046-1481-driving-peak-45m-v0\n",
      "INFO:root:Currently fetching 2046-1482-driving-peak-5m-v0\n",
      "INFO:root:Currently fetching 2046-1482-driving-peak-15m-v0\n",
      "INFO:root:Currently fetching 2046-1482-driving-peak-25m-v0\n",
      "INFO:root:Currently fetching 2046-1482-driving-peak-35m-v0\n",
      "INFO:root:Currently fetching 2046-1482-driving-peak-45m-v0\n",
      "INFO:root:Currently fetching 2046-1483-driving-peak-5m-v0\n",
      "INFO:root:Currently fetching 2046-1483-driving-peak-15m-v0\n",
      "INFO:root:Currently fetching 2046-1483-driving-peak-25m-v0\n",
      "INFO:root:Currently fetching 2046-1483-driving-peak-35m-v0\n",
      "INFO:root:Currently fetching 2046-1483-driving-peak-45m-v0\n",
      "INFO:root:Currently fetching 2046-1484-driving-peak-5m-v0\n",
      "INFO:root:Currently fetching 2046-1484-driving-peak-15m-v0\n",
      "INFO:root:Currently fetching 2046-1484-driving-peak-25m-v0\n",
      "INFO:root:Currently fetching 2046-1484-driving-peak-35m-v0\n",
      "INFO:root:Currently fetching 2046-1484-driving-peak-45m-v0\n",
      "INFO:root:Currently fetching 2046-1485-driving-peak-5m-v0\n",
      "INFO:root:Currently fetching 2046-1485-driving-peak-15m-v0\n",
      "INFO:root:Currently fetching 2046-1485-driving-peak-25m-v0\n",
      "INFO:root:Currently fetching 2046-1485-driving-peak-35m-v0\n",
      "INFO:root:Currently fetching 2046-1485-driving-peak-45m-v0\n",
      "INFO:root:Currently fetching 2046-1486-driving-peak-5m-v0\n",
      "INFO:root:Currently fetching 2046-1486-driving-peak-15m-v0\n",
      "INFO:root:Currently fetching 2046-1486-driving-peak-25m-v0\n",
      "INFO:root:Currently fetching 2046-1486-driving-peak-35m-v0\n",
      "INFO:root:Currently fetching 2046-1486-driving-peak-45m-v0\n",
      "INFO:root:Currently fetching 2046-1487-driving-peak-5m-v0\n",
      "INFO:root:Currently fetching 2046-1487-driving-peak-15m-v0\n",
      "INFO:root:Currently fetching 2046-1487-driving-peak-25m-v0\n",
      "INFO:root:Currently fetching 2046-1487-driving-peak-35m-v0\n",
      "INFO:root:Currently fetching 2046-1487-driving-peak-45m-v0\n",
      "INFO:root:Currently fetching 2046-1488-driving-peak-5m-v0\n",
      "INFO:root:Currently fetching 2046-1488-driving-peak-15m-v0\n",
      "INFO:root:Currently fetching 2046-1488-driving-peak-25m-v0\n",
      "INFO:root:Currently fetching 2046-1488-driving-peak-35m-v0\n",
      "INFO:root:Currently fetching 2046-1488-driving-peak-45m-v0\n",
      "INFO:root:Currently fetching 2046-1489-driving-peak-5m-v0\n",
      "INFO:root:Currently fetching 2046-1489-driving-peak-15m-v0\n",
      "INFO:root:Currently fetching 2046-1489-driving-peak-25m-v0\n",
      "INFO:root:Currently fetching 2046-1489-driving-peak-35m-v0\n",
      "INFO:root:Currently fetching 2046-1489-driving-peak-45m-v0\n",
      "INFO:root:Currently fetching 2046-1490-driving-peak-5m-v0\n",
      "INFO:root:Currently fetching 2046-1490-driving-peak-15m-v0\n",
      "INFO:root:Currently fetching 2046-1490-driving-peak-25m-v0\n",
      "INFO:root:Currently fetching 2046-1490-driving-peak-35m-v0\n",
      "INFO:root:Currently fetching 2046-1490-driving-peak-45m-v0\n",
      "INFO:root:Currently fetching 2046-1491-driving-peak-5m-v0\n",
      "INFO:root:Currently fetching 2046-1491-driving-peak-15m-v0\n",
      "INFO:root:Currently fetching 2046-1491-driving-peak-25m-v0\n",
      "INFO:root:Currently fetching 2046-1491-driving-peak-35m-v0\n",
      "INFO:root:Currently fetching 2046-1491-driving-peak-45m-v0\n",
      "INFO:root:Currently fetching 2046-1492-driving-peak-5m-v0\n",
      "INFO:root:Currently fetching 2046-1492-driving-peak-15m-v0\n",
      "INFO:root:Currently fetching 2046-1492-driving-peak-25m-v0\n",
      "INFO:root:Currently fetching 2046-1492-driving-peak-35m-v0\n",
      "INFO:root:Currently fetching 2046-1492-driving-peak-45m-v0\n"
     ]
    }
   ],
   "source": [
    "for i, city in cities.iterrows():\n",
    "    print(city.City)\n",
    "    file = f'{city.ID_HDC_G0}.pcl'\n",
    "    df = pd.read_pickle(os.path.join(DROOT, '3-interim', 'populationmasks', file))\n",
    "    gdf = gpd.GeoDataFrame(df)\n",
    "    \n",
    "    origins  = enumerate(gdf.centroid.to_crs(\"EPSG:4326\"))\n",
    "    times    = [5, 15, 25, 35, 45]\n",
    "    modes_dt = [\n",
    "        ('driving', 'driving-peak', datetime(2023, 5, 2, 8, 30, 37)), \n",
    "#         ('driving', 'driving',      datetime(2023, 5, 2, 13, 0, 37)), \n",
    "#       ('transit', 'transit-peak', datetime(2023, 5, 2, 8, 30, 37)),\n",
    "#       ('transit', 'transit',      datetime(2023, 5, 2, 13, 0, 37)), \n",
    "#       ('walking', 'walking',      datetime(2023, 5, 2, 8, 30, 37))\n",
    "    ]\n",
    "    \n",
    "    batch      = list(itertools.product(origins, times, modes_dt))\n",
    "    isochrones = client.get_isochrones_async(city.ID_HDC_G0, batch)"
   ]
  },
  {
   "cell_type": "code",
   "execution_count": null,
   "id": "8cb09eb3",
   "metadata": {},
   "outputs": [],
   "source": [
    "ax = gdf.plot()\n",
    "gdf.iloc[40:50].plot(edgecolor=u'white', color=np.random.rand(3,), ax=ax)"
   ]
  },
  {
   "cell_type": "code",
   "execution_count": null,
   "id": "0383e0fe",
   "metadata": {
    "scrolled": false
   },
   "outputs": [],
   "source": [
    "fig, axs = plt.subplots(ncols=5, figsize=(20, 4))\n",
    "for i, t in enumerate(range(5, 55, 10)):\n",
    "    stockholm = client.get_isochrone(STADSHUSET, f'stockholm-{t}', t, STARTDATE, 'driving')\n",
    "    stockholm.plot(ax=axs[i])\n",
    "    ctx.add_basemap(axs[i], crs=\"EPSG:4326\")"
   ]
  }
 ],
 "metadata": {
  "kernelspec": {
   "display_name": "Python [conda env:DUTTv2] *",
   "language": "python",
   "name": "conda-env-DUTTv2-py"
  },
  "language_info": {
   "codemirror_mode": {
    "name": "ipython",
    "version": 3
   },
   "file_extension": ".py",
   "mimetype": "text/x-python",
   "name": "python",
   "nbconvert_exporter": "python",
   "pygments_lexer": "ipython3",
   "version": "3.11.3"
  }
 },
 "nbformat": 4,
 "nbformat_minor": 5
}
