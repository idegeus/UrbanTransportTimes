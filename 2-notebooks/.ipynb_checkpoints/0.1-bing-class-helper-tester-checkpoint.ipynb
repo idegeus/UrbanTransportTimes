{
 "cells": [
  {
   "cell_type": "code",
   "execution_count": 2,
   "id": "6f01c3a7",
   "metadata": {},
   "outputs": [
    {
     "data": {
      "text/plain": [
       "True"
      ]
     },
     "execution_count": 2,
     "metadata": {},
     "output_type": "execute_result"
    }
   ],
   "source": [
    "import os\n",
    "import requests\n",
    "import matplotlib.pyplot as plt\n",
    "import pandas as pd\n",
    "import geopandas as gpd\n",
    "import contextily as ctx\n",
    "import sqlite3 as sl\n",
    "from shapely.geometry import Point, Polygon, MultiPolygon\n",
    "from shapely import wkt\n",
    "from datetime import datetime\n",
    "import time\n",
    "\n",
    "from bing_helper import Bing\n",
    "\n",
    "from dotenv import load_dotenv\n",
    "\n",
    "load_dotenv()"
   ]
  },
  {
   "cell_type": "code",
   "execution_count": 12,
   "id": "59338d76",
   "metadata": {},
   "outputs": [
    {
     "data": {
      "text/plain": [
       "dtype('O')"
      ]
     },
     "execution_count": 12,
     "metadata": {},
     "output_type": "execute_result"
    }
   ],
   "source": [
    "import itertools\n",
    "import numpy as np\n",
    "\n",
    "DROOT = '../1-data/'\n",
    "KEY = os.environ['BING_API_KEY']\n",
    "cities = pd.read_excel(os.path.join(DROOT, '1-research', 'cities.xlsx'), index_col=0)\n",
    "cities.head(5)\n",
    "\n",
    "CACHE_PATH = 'tmp.db'\n",
    "KEY = os.environ['BING_API_KEY']\n",
    "client = Bing(KEY, os.path.join(DROOT, '3-interim', 'bing_cache.db'))\n",
    "\n",
    "wew = pd.read_sql_query(\"SELECT * FROM isochrone WHERE uid='2851-91-driving-5m-v0';\", client.con)\n",
    "wew = gpd.GeoDataFrame(wew, crs=\"EPSG:4326\")\n",
    "wew.geometry.dtype"
   ]
  },
  {
   "cell_type": "code",
   "execution_count": 13,
   "id": "e4935192",
   "metadata": {
    "scrolled": true
   },
   "outputs": [
    {
     "name": "stderr",
     "output_type": "stream",
     "text": [
      "WARNING:root:Out of total 3920, 100.00% cached.\n",
      "WARNING:root:Out of total 730, 100.00% cached.\n",
      "WARNING:root:Out of total 2660, 100.00% cached.\n",
      "WARNING:root:Out of total 6860, 59.53% cached.\n"
     ]
    },
    {
     "ename": "IntegrityError",
     "evalue": "Please make sure the UID is unique.",
     "output_type": "error",
     "traceback": [
      "\u001b[0;31m---------------------------------------------------------------------------\u001b[0m",
      "\u001b[0;31mIntegrityError\u001b[0m                            Traceback (most recent call last)",
      "File \u001b[0;32m~/Desktop/DUTTv2/2-notebooks/bing_helper.py:57\u001b[0m, in \u001b[0;36mBing._save_cache\u001b[0;34m(self, uid, tt_mnts, dep_dt, mode, polygon)\u001b[0m\n\u001b[1;32m     53\u001b[0m         sql \u001b[38;5;241m=\u001b[39m \u001b[38;5;124m\"\"\"\u001b[39m\n\u001b[1;32m     54\u001b[0m \u001b[38;5;124m            INSERT INTO isochrone (uid, tt_mnts, dep_dt, mode, geometry) \u001b[39m\n\u001b[1;32m     55\u001b[0m \u001b[38;5;124m            values(?, ?, ?, ?, ?)\u001b[39m\n\u001b[1;32m     56\u001b[0m \u001b[38;5;124m        \u001b[39m\u001b[38;5;124m\"\"\"\u001b[39m\n\u001b[0;32m---> 57\u001b[0m         result \u001b[38;5;241m=\u001b[39m \u001b[38;5;28;43mself\u001b[39;49m\u001b[38;5;241;43m.\u001b[39;49m\u001b[43mcon\u001b[49m\u001b[38;5;241;43m.\u001b[39;49m\u001b[43mexecute\u001b[49m\u001b[43m(\u001b[49m\u001b[43msql\u001b[49m\u001b[43m,\u001b[49m\u001b[43m \u001b[49m\u001b[43m(\u001b[49m\u001b[43muid\u001b[49m\u001b[43m,\u001b[49m\u001b[43m \u001b[49m\u001b[43mtt_mnts\u001b[49m\u001b[43m,\u001b[49m\u001b[43m \u001b[49m\u001b[43mdep_dt\u001b[49m\u001b[43m,\u001b[49m\u001b[43m \u001b[49m\u001b[43mmode\u001b[49m\u001b[43m,\u001b[49m\u001b[43m \u001b[49m\u001b[43mpolygon\u001b[49m\u001b[38;5;241;43m.\u001b[39;49m\u001b[43miloc\u001b[49m\u001b[43m[\u001b[49m\u001b[38;5;241;43m0\u001b[39;49m\u001b[43m]\u001b[49m\u001b[38;5;241;43m.\u001b[39;49m\u001b[43mwkt\u001b[49m\u001b[43m)\u001b[49m\u001b[43m)\u001b[49m\n\u001b[1;32m     58\u001b[0m \u001b[38;5;28;01mexcept\u001b[39;00m sl\u001b[38;5;241m.\u001b[39mIntegrityError:\n",
      "\u001b[0;31mIntegrityError\u001b[0m: UNIQUE constraint failed: isochrone.uid",
      "\nDuring handling of the above exception, another exception occurred:\n",
      "\u001b[0;31mIntegrityError\u001b[0m                            Traceback (most recent call last)",
      "Cell \u001b[0;32mIn[13], line 16\u001b[0m\n\u001b[1;32m      8\u001b[0m     modes_dt \u001b[38;5;241m=\u001b[39m [(\u001b[38;5;124m'\u001b[39m\u001b[38;5;124mdriving\u001b[39m\u001b[38;5;124m'\u001b[39m, \u001b[38;5;124m'\u001b[39m\u001b[38;5;124mdriving-peak\u001b[39m\u001b[38;5;124m'\u001b[39m, datetime(\u001b[38;5;241m2023\u001b[39m, \u001b[38;5;241m5\u001b[39m, \u001b[38;5;241m2\u001b[39m, \u001b[38;5;241m8\u001b[39m, \u001b[38;5;241m30\u001b[39m, \u001b[38;5;241m37\u001b[39m)), \n\u001b[1;32m      9\u001b[0m                 (\u001b[38;5;124m'\u001b[39m\u001b[38;5;124mdriving\u001b[39m\u001b[38;5;124m'\u001b[39m, \u001b[38;5;124m'\u001b[39m\u001b[38;5;124mdriving\u001b[39m\u001b[38;5;124m'\u001b[39m,      datetime(\u001b[38;5;241m2023\u001b[39m, \u001b[38;5;241m5\u001b[39m, \u001b[38;5;241m2\u001b[39m, \u001b[38;5;241m13\u001b[39m, \u001b[38;5;241m0\u001b[39m, \u001b[38;5;241m37\u001b[39m)), \n\u001b[1;32m     10\u001b[0m \u001b[38;5;66;03m#                 ('transit', 'transit-peak', datetime(2023, 5, 2, 8, 30, 37)),\u001b[39;00m\n\u001b[1;32m     11\u001b[0m \u001b[38;5;66;03m#                 ('transit', 'transit',      datetime(2023, 5, 2, 13, 0, 37)), \u001b[39;00m\n\u001b[1;32m     12\u001b[0m \u001b[38;5;66;03m#                 ('walking', 'walking',      datetime(2023, 5, 2, 8, 30, 37))\u001b[39;00m\n\u001b[1;32m     13\u001b[0m                ]\n\u001b[1;32m     15\u001b[0m     batch      \u001b[38;5;241m=\u001b[39m \u001b[38;5;28mlist\u001b[39m(itertools\u001b[38;5;241m.\u001b[39mproduct(origins, times, modes_dt))\n\u001b[0;32m---> 16\u001b[0m     isochrones \u001b[38;5;241m=\u001b[39m \u001b[43mclient\u001b[49m\u001b[38;5;241;43m.\u001b[39;49m\u001b[43mget_isochrones_async\u001b[49m\u001b[43m(\u001b[49m\u001b[43mcity\u001b[49m\u001b[38;5;241;43m.\u001b[39;49m\u001b[43mID_HDC_G0\u001b[49m\u001b[43m,\u001b[49m\u001b[43m \u001b[49m\u001b[43mbatch\u001b[49m\u001b[43m)\u001b[49m\n\u001b[1;32m     18\u001b[0m isochrones\n",
      "File \u001b[0;32m~/Desktop/DUTTv2/2-notebooks/bing_helper.py:159\u001b[0m, in \u001b[0;36mBing.get_isochrones_async\u001b[0;34m(self, city_id, batch, buf_m, tqdm)\u001b[0m\n\u001b[1;32m    156\u001b[0m                     polygons\u001b[38;5;241m.\u001b[39mappend(Polygon([[e[\u001b[38;5;241m1\u001b[39m], e[\u001b[38;5;241m0\u001b[39m]] \u001b[38;5;28;01mfor\u001b[39;00m e \u001b[38;5;129;01min\u001b[39;00m l2]))\n\u001b[1;32m    157\u001b[0m         result \u001b[38;5;241m=\u001b[39m gpd\u001b[38;5;241m.\u001b[39mGeoSeries(MultiPolygon(polygons))\u001b[38;5;241m.\u001b[39mset_crs(\u001b[38;5;124m\"\u001b[39m\u001b[38;5;124mEPSG:4326\u001b[39m\u001b[38;5;124m\"\u001b[39m)\n\u001b[0;32m--> 159\u001b[0m         \u001b[38;5;28;43mself\u001b[39;49m\u001b[38;5;241;43m.\u001b[39;49m\u001b[43m_save_cache\u001b[49m\u001b[43m(\u001b[49m\u001b[43mitem\u001b[49m\u001b[38;5;241;43m.\u001b[39;49m\u001b[43muid\u001b[49m\u001b[43m,\u001b[49m\u001b[43m \u001b[49m\u001b[43mitem\u001b[49m\u001b[38;5;241;43m.\u001b[39;49m\u001b[43mtt_mnts\u001b[49m\u001b[43m,\u001b[49m\u001b[43m \u001b[49m\u001b[43mitem\u001b[49m\u001b[38;5;241;43m.\u001b[39;49m\u001b[43mdep_dt\u001b[49m\u001b[38;5;241;43m.\u001b[39;49m\u001b[43mto_pydatetime\u001b[49m\u001b[43m(\u001b[49m\u001b[43m)\u001b[49m\u001b[43m,\u001b[49m\u001b[43m \u001b[49m\u001b[43mitem\u001b[49m\u001b[43m[\u001b[49m\u001b[38;5;124;43m'\u001b[39;49m\u001b[38;5;124;43mmode\u001b[39;49m\u001b[38;5;124;43m'\u001b[39;49m\u001b[43m]\u001b[49m\u001b[43m,\u001b[49m\u001b[43m \u001b[49m\u001b[43mresult\u001b[49m\u001b[43m)\u001b[49m\n\u001b[1;32m    161\u001b[0m \u001b[38;5;66;03m# Add padding as per requirement\u001b[39;00m\n\u001b[1;32m    162\u001b[0m \u001b[38;5;28;01mif\u001b[39;00m buf_m \u001b[38;5;241m>\u001b[39m \u001b[38;5;241m0\u001b[39m:\n",
      "File \u001b[0;32m~/Desktop/DUTTv2/2-notebooks/bing_helper.py:59\u001b[0m, in \u001b[0;36mBing._save_cache\u001b[0;34m(self, uid, tt_mnts, dep_dt, mode, polygon)\u001b[0m\n\u001b[1;32m     57\u001b[0m         result \u001b[38;5;241m=\u001b[39m \u001b[38;5;28mself\u001b[39m\u001b[38;5;241m.\u001b[39mcon\u001b[38;5;241m.\u001b[39mexecute(sql, (uid, tt_mnts, dep_dt, mode, polygon\u001b[38;5;241m.\u001b[39miloc[\u001b[38;5;241m0\u001b[39m]\u001b[38;5;241m.\u001b[39mwkt))\n\u001b[1;32m     58\u001b[0m \u001b[38;5;28;01mexcept\u001b[39;00m sl\u001b[38;5;241m.\u001b[39mIntegrityError:\n\u001b[0;32m---> 59\u001b[0m     \u001b[38;5;28;01mraise\u001b[39;00m sl\u001b[38;5;241m.\u001b[39mIntegrityError(\u001b[38;5;124m\"\u001b[39m\u001b[38;5;124mPlease make sure the UID is unique.\u001b[39m\u001b[38;5;124m\"\u001b[39m)\n\u001b[1;32m     61\u001b[0m \u001b[38;5;28;01mreturn\u001b[39;00m result\n",
      "\u001b[0;31mIntegrityError\u001b[0m: Please make sure the UID is unique."
     ]
    }
   ],
   "source": [
    "for i, city in cities.iterrows():\n",
    "    file = f'{city.ID_HDC_G0}.pcl'\n",
    "    df = pd.read_pickle(os.path.join(DROOT, '3-interim', 'populationmasks', file))\n",
    "    gdf = gpd.GeoDataFrame(df)\n",
    "    \n",
    "    origins  = enumerate(gdf.centroid.to_crs(\"EPSG:4326\"))\n",
    "    times    = range(5, 55, 10)\n",
    "    modes_dt = [('driving', 'driving-peak', datetime(2023, 5, 2, 8, 30, 37)), \n",
    "                ('driving', 'driving',      datetime(2023, 5, 2, 13, 0, 37)), \n",
    "#                 ('transit', 'transit-peak', datetime(2023, 5, 2, 8, 30, 37)),\n",
    "#                 ('transit', 'transit',      datetime(2023, 5, 2, 13, 0, 37)), \n",
    "#                 ('walking', 'walking',      datetime(2023, 5, 2, 8, 30, 37))\n",
    "               ]\n",
    "    \n",
    "    batch      = list(itertools.product(origins, times, modes_dt))\n",
    "    isochrones = client.get_isochrones_async(city.ID_HDC_G0, batch)\n",
    "    \n",
    "isochrones"
   ]
  },
  {
   "cell_type": "code",
   "execution_count": null,
   "id": "5618a6e7",
   "metadata": {},
   "outputs": [],
   "source": [
    "    for pid, point in tqdm(enumerate(origins), total=len(origins)):\n",
    "        for i, t in enumerate(range(5, 55, 10)):\n",
    "            uid = f'{city.ID_HDC_G0}-{pid}-driving-peak-{t}m-v0'\n",
    "            client.get_isochrone(point, uid, t, STARTDATE, 'driving')"
   ]
  },
  {
   "cell_type": "code",
   "execution_count": 3,
   "id": "1ab22868",
   "metadata": {
    "scrolled": false
   },
   "outputs": [
    {
     "name": "stderr",
     "output_type": "stream",
     "text": [
      "WARNING:root:No resourceSets found for this coordinate: 59.32756,18.0547751\n",
      "/Users/ivo/opt/anaconda3/envs/DUTTv2/lib/python3.11/site-packages/geopandas/array.py:938: RuntimeWarning: All-NaN slice encountered\n",
      "  np.nanmin(b[:, 0]),  # minx\n",
      "/Users/ivo/opt/anaconda3/envs/DUTTv2/lib/python3.11/site-packages/geopandas/array.py:939: RuntimeWarning: All-NaN slice encountered\n",
      "  np.nanmin(b[:, 1]),  # miny\n",
      "/Users/ivo/opt/anaconda3/envs/DUTTv2/lib/python3.11/site-packages/geopandas/array.py:940: RuntimeWarning: All-NaN slice encountered\n",
      "  np.nanmax(b[:, 2]),  # maxx\n",
      "/Users/ivo/opt/anaconda3/envs/DUTTv2/lib/python3.11/site-packages/geopandas/array.py:941: RuntimeWarning: All-NaN slice encountered\n",
      "  np.nanmax(b[:, 3]),  # maxy\n"
     ]
    },
    {
     "ename": "ValueError",
     "evalue": "NaN or None values are not allowed.",
     "output_type": "error",
     "traceback": [
      "\u001b[0;31m---------------------------------------------------------------------------\u001b[0m",
      "\u001b[0;31mValueError\u001b[0m                                Traceback (most recent call last)",
      "Cell \u001b[0;32mIn[3], line 10\u001b[0m\n\u001b[1;32m      8\u001b[0m fig, axs \u001b[38;5;241m=\u001b[39m plt\u001b[38;5;241m.\u001b[39msubplots(ncols\u001b[38;5;241m=\u001b[39m\u001b[38;5;241m5\u001b[39m, figsize\u001b[38;5;241m=\u001b[39m(\u001b[38;5;241m20\u001b[39m, \u001b[38;5;241m4\u001b[39m))\n\u001b[1;32m      9\u001b[0m \u001b[38;5;28;01mfor\u001b[39;00m i, t \u001b[38;5;129;01min\u001b[39;00m \u001b[38;5;28menumerate\u001b[39m(\u001b[38;5;28mrange\u001b[39m(\u001b[38;5;241m5\u001b[39m, \u001b[38;5;241m55\u001b[39m, \u001b[38;5;241m10\u001b[39m)):\n\u001b[0;32m---> 10\u001b[0m     stockholm \u001b[38;5;241m=\u001b[39m \u001b[43mclient\u001b[49m\u001b[38;5;241;43m.\u001b[39;49m\u001b[43mget_isochrone\u001b[49m\u001b[43m(\u001b[49m\u001b[43mSTADSHUSET\u001b[49m\u001b[43m,\u001b[49m\u001b[43m \u001b[49m\u001b[38;5;124;43mf\u001b[39;49m\u001b[38;5;124;43m'\u001b[39;49m\u001b[38;5;124;43mtrial-\u001b[39;49m\u001b[38;5;132;43;01m{\u001b[39;49;00m\u001b[43mt\u001b[49m\u001b[38;5;132;43;01m}\u001b[39;49;00m\u001b[38;5;124;43m'\u001b[39;49m\u001b[43m,\u001b[49m\u001b[43m \u001b[49m\u001b[43mt\u001b[49m\u001b[43m,\u001b[49m\u001b[43m \u001b[49m\u001b[43mSTARTDATE\u001b[49m\u001b[43m,\u001b[49m\u001b[43m \u001b[49m\u001b[38;5;124;43m'\u001b[39;49m\u001b[38;5;124;43mtransit\u001b[39;49m\u001b[38;5;124;43m'\u001b[39;49m\u001b[43m,\u001b[49m\u001b[43m \u001b[49m\u001b[43mbuf_m\u001b[49m\u001b[38;5;241;43m=\u001b[39;49m\u001b[38;5;241;43m50\u001b[39;49m\u001b[43m)\u001b[49m\n\u001b[1;32m     11\u001b[0m     stockholm\u001b[38;5;241m.\u001b[39mplot(ax\u001b[38;5;241m=\u001b[39maxs[i])\n",
      "File \u001b[0;32m~/Desktop/DUTTv2/2-notebooks/bing_helper.py:131\u001b[0m, in \u001b[0;36mBing.get_isochrone\u001b[0;34m(self, startpt, uid, tt_mnts, dep_dt, mode, buf_m)\u001b[0m\n\u001b[1;32m    129\u001b[0m \u001b[38;5;66;03m# Add padding as per requirement\u001b[39;00m\n\u001b[1;32m    130\u001b[0m \u001b[38;5;28;01mif\u001b[39;00m buf_m \u001b[38;5;241m>\u001b[39m \u001b[38;5;241m0\u001b[39m:\n\u001b[0;32m--> 131\u001b[0m     result \u001b[38;5;241m=\u001b[39m result\u001b[38;5;241m.\u001b[39mto_crs(\u001b[43mresult\u001b[49m\u001b[38;5;241;43m.\u001b[39;49m\u001b[43mestimate_utm_crs\u001b[49m\u001b[43m(\u001b[49m\u001b[43m)\u001b[49m)\n\u001b[1;32m    132\u001b[0m     result \u001b[38;5;241m=\u001b[39m result\u001b[38;5;241m.\u001b[39mbuffer(buf_m)\n\u001b[1;32m    133\u001b[0m     result \u001b[38;5;241m=\u001b[39m result\u001b[38;5;241m.\u001b[39mto_crs(\u001b[38;5;124m\"\u001b[39m\u001b[38;5;124mEPSG:4326\u001b[39m\u001b[38;5;124m\"\u001b[39m)\n",
      "File \u001b[0;32m~/opt/anaconda3/envs/DUTTv2/lib/python3.11/site-packages/geopandas/geoseries.py:1165\u001b[0m, in \u001b[0;36mGeoSeries.estimate_utm_crs\u001b[0;34m(self, datum_name)\u001b[0m\n\u001b[1;32m   1127\u001b[0m \u001b[38;5;28;01mdef\u001b[39;00m \u001b[38;5;21mestimate_utm_crs\u001b[39m(\u001b[38;5;28mself\u001b[39m, datum_name\u001b[38;5;241m=\u001b[39m\u001b[38;5;124m\"\u001b[39m\u001b[38;5;124mWGS 84\u001b[39m\u001b[38;5;124m\"\u001b[39m):\n\u001b[1;32m   1128\u001b[0m \u001b[38;5;250m    \u001b[39m\u001b[38;5;124;03m\"\"\"Returns the estimated UTM CRS based on the bounds of the dataset.\u001b[39;00m\n\u001b[1;32m   1129\u001b[0m \n\u001b[1;32m   1130\u001b[0m \u001b[38;5;124;03m    .. versionadded:: 0.9\u001b[39;00m\n\u001b[0;32m   (...)\u001b[0m\n\u001b[1;32m   1163\u001b[0m \u001b[38;5;124;03m    - Prime Meridian: Greenwich\u001b[39;00m\n\u001b[1;32m   1164\u001b[0m \u001b[38;5;124;03m    \"\"\"\u001b[39;00m\n\u001b[0;32m-> 1165\u001b[0m     \u001b[38;5;28;01mreturn\u001b[39;00m \u001b[38;5;28;43mself\u001b[39;49m\u001b[38;5;241;43m.\u001b[39;49m\u001b[43mvalues\u001b[49m\u001b[38;5;241;43m.\u001b[39;49m\u001b[43mestimate_utm_crs\u001b[49m\u001b[43m(\u001b[49m\u001b[43mdatum_name\u001b[49m\u001b[43m)\u001b[49m\n",
      "File \u001b[0;32m~/opt/anaconda3/envs/DUTTv2/lib/python3.11/site-packages/geopandas/array.py:861\u001b[0m, in \u001b[0;36mGeometryArray.estimate_utm_crs\u001b[0;34m(self, datum_name)\u001b[0m\n\u001b[1;32m    856\u001b[0m         x_center \u001b[38;5;241m=\u001b[39m np\u001b[38;5;241m.\u001b[39mmean(lon)\n\u001b[1;32m    857\u001b[0m         y_center \u001b[38;5;241m=\u001b[39m np\u001b[38;5;241m.\u001b[39mmean(lat)\n\u001b[1;32m    859\u001b[0m utm_crs_list \u001b[38;5;241m=\u001b[39m query_utm_crs_info(\n\u001b[1;32m    860\u001b[0m     datum_name\u001b[38;5;241m=\u001b[39mdatum_name,\n\u001b[0;32m--> 861\u001b[0m     area_of_interest\u001b[38;5;241m=\u001b[39m\u001b[43mAreaOfInterest\u001b[49m\u001b[43m(\u001b[49m\n\u001b[1;32m    862\u001b[0m \u001b[43m        \u001b[49m\u001b[43mwest_lon_degree\u001b[49m\u001b[38;5;241;43m=\u001b[39;49m\u001b[43mx_center\u001b[49m\u001b[43m,\u001b[49m\n\u001b[1;32m    863\u001b[0m \u001b[43m        \u001b[49m\u001b[43msouth_lat_degree\u001b[49m\u001b[38;5;241;43m=\u001b[39;49m\u001b[43my_center\u001b[49m\u001b[43m,\u001b[49m\n\u001b[1;32m    864\u001b[0m \u001b[43m        \u001b[49m\u001b[43meast_lon_degree\u001b[49m\u001b[38;5;241;43m=\u001b[39;49m\u001b[43mx_center\u001b[49m\u001b[43m,\u001b[49m\n\u001b[1;32m    865\u001b[0m \u001b[43m        \u001b[49m\u001b[43mnorth_lat_degree\u001b[49m\u001b[38;5;241;43m=\u001b[39;49m\u001b[43my_center\u001b[49m\u001b[43m,\u001b[49m\n\u001b[1;32m    866\u001b[0m \u001b[43m    \u001b[49m\u001b[43m)\u001b[49m,\n\u001b[1;32m    867\u001b[0m )\n\u001b[1;32m    868\u001b[0m \u001b[38;5;28;01mtry\u001b[39;00m:\n\u001b[1;32m    869\u001b[0m     \u001b[38;5;28;01mreturn\u001b[39;00m CRS\u001b[38;5;241m.\u001b[39mfrom_epsg(utm_crs_list[\u001b[38;5;241m0\u001b[39m]\u001b[38;5;241m.\u001b[39mcode)\n",
      "File \u001b[0;32m<string>:7\u001b[0m, in \u001b[0;36m__init__\u001b[0;34m(self, west_lon_degree, south_lat_degree, east_lon_degree, north_lat_degree)\u001b[0m\n",
      "File \u001b[0;32m~/opt/anaconda3/envs/DUTTv2/lib/python3.11/site-packages/pyproj/aoi.py:37\u001b[0m, in \u001b[0;36mAreaOfInterest.__post_init__\u001b[0;34m(self)\u001b[0m\n\u001b[1;32m     30\u001b[0m \u001b[38;5;28;01mdef\u001b[39;00m \u001b[38;5;21m__post_init__\u001b[39m(\u001b[38;5;28mself\u001b[39m):\n\u001b[1;32m     31\u001b[0m     \u001b[38;5;28;01mif\u001b[39;00m (\n\u001b[1;32m     32\u001b[0m         is_null(\u001b[38;5;28mself\u001b[39m\u001b[38;5;241m.\u001b[39mwest_lon_degree)\n\u001b[1;32m     33\u001b[0m         \u001b[38;5;129;01mor\u001b[39;00m is_null(\u001b[38;5;28mself\u001b[39m\u001b[38;5;241m.\u001b[39msouth_lat_degree)\n\u001b[1;32m     34\u001b[0m         \u001b[38;5;129;01mor\u001b[39;00m is_null(\u001b[38;5;28mself\u001b[39m\u001b[38;5;241m.\u001b[39meast_lon_degree)\n\u001b[1;32m     35\u001b[0m         \u001b[38;5;129;01mor\u001b[39;00m is_null(\u001b[38;5;28mself\u001b[39m\u001b[38;5;241m.\u001b[39mnorth_lat_degree)\n\u001b[1;32m     36\u001b[0m     ):\n\u001b[0;32m---> 37\u001b[0m         \u001b[38;5;28;01mraise\u001b[39;00m \u001b[38;5;167;01mValueError\u001b[39;00m(\u001b[38;5;124m\"\u001b[39m\u001b[38;5;124mNaN or None values are not allowed.\u001b[39m\u001b[38;5;124m\"\u001b[39m)\n",
      "\u001b[0;31mValueError\u001b[0m: NaN or None values are not allowed."
     ]
    },
    {
     "data": {
      "image/png": "[encoded data removed]",
      "text/plain": [
       "<Figure size 2000x400 with 5 Axes>"
      ]
     },
     "metadata": {},
     "output_type": "display_data"
    }
   ],
   "source": [
    "STARTDATE = datetime(2023, 5, 2, 16, 0, 37)\n",
    "STADSHUSET = Point(18.0547751, 59.327560)\n",
    "CACHE_PATH = 'tmp.db'\n",
    "KEY = os.environ['BING_API_KEY']\n",
    "\n",
    "client = Bing(KEY, CACHE_PATH)\n",
    "\n",
    "fig, axs = plt.subplots(ncols=5, figsize=(20, 4))\n",
    "for i, t in enumerate(range(5, 55, 10)):\n",
    "    stockholm = client.get_isochrone(STADSHUSET, f'trial-{t}', t, STARTDATE, 'transit', buf_m=50)\n",
    "    stockholm.plot(ax=axs[i])"
   ]
  },
  {
   "cell_type": "code",
   "execution_count": null,
   "id": "d89ddb72",
   "metadata": {},
   "outputs": [],
   "source": []
  }
 ],
 "metadata": {
  "kernelspec": {
   "display_name": "Python [conda env:DUTTv2] *",
   "language": "python",
   "name": "conda-env-DUTTv2-py"
  },
  "language_info": {
   "codemirror_mode": {
    "name": "ipython",
    "version": 3
   },
   "file_extension": ".py",
   "mimetype": "text/x-python",
   "name": "python",
   "nbconvert_exporter": "python",
   "pygments_lexer": "ipython3",
   "version": "3.11.3"
  }
 },
 "nbformat": 4,
 "nbformat_minor": 5
}
