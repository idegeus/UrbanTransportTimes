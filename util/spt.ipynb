{
 "cells": [
  {
   "cell_type": "code",
   "execution_count": 2,
   "metadata": {},
   "outputs": [
    {
     "data": {
      "text/html": [
       "<div>\n",
       "<style scoped>\n",
       "    .dataframe tbody tr th:only-of-type {\n",
       "        vertical-align: middle;\n",
       "    }\n",
       "\n",
       "    .dataframe tbody tr th {\n",
       "        vertical-align: top;\n",
       "    }\n",
       "\n",
       "    .dataframe thead th {\n",
       "        text-align: right;\n",
       "    }\n",
       "</style>\n",
       "<table border=\"1\" class=\"dataframe\">\n",
       "  <thead>\n",
       "    <tr style=\"text-align: right;\">\n",
       "      <th></th>\n",
       "      <th>longitude</th>\n",
       "      <th>latitude</th>\n",
       "      <th>time</th>\n",
       "      <th>distance</th>\n",
       "      <th>geometry</th>\n",
       "    </tr>\n",
       "  </thead>\n",
       "  <tbody>\n",
       "    <tr>\n",
       "      <th>0</th>\n",
       "      <td>4.901700</td>\n",
       "      <td>52.379285</td>\n",
       "      <td>0</td>\n",
       "      <td>0</td>\n",
       "      <td>POINT (4.90170 52.37929)</td>\n",
       "    </tr>\n",
       "    <tr>\n",
       "      <th>1</th>\n",
       "      <td>4.902685</td>\n",
       "      <td>52.378924</td>\n",
       "      <td>6245</td>\n",
       "      <td>78</td>\n",
       "      <td>POINT (4.90268 52.37892)</td>\n",
       "    </tr>\n",
       "    <tr>\n",
       "      <th>2</th>\n",
       "      <td>4.904357</td>\n",
       "      <td>52.378351</td>\n",
       "      <td>16672</td>\n",
       "      <td>208</td>\n",
       "      <td>POINT (4.90436 52.37835)</td>\n",
       "    </tr>\n",
       "    <tr>\n",
       "      <th>3</th>\n",
       "      <td>4.904407</td>\n",
       "      <td>52.378337</td>\n",
       "      <td>16973</td>\n",
       "      <td>212</td>\n",
       "      <td>POINT (4.90441 52.37834)</td>\n",
       "    </tr>\n",
       "    <tr>\n",
       "      <th>4</th>\n",
       "      <td>4.904851</td>\n",
       "      <td>52.378233</td>\n",
       "      <td>19551</td>\n",
       "      <td>244</td>\n",
       "      <td>POINT (4.90485 52.37823)</td>\n",
       "    </tr>\n",
       "    <tr>\n",
       "      <th>...</th>\n",
       "      <td>...</td>\n",
       "      <td>...</td>\n",
       "      <td>...</td>\n",
       "      <td>...</td>\n",
       "      <td>...</td>\n",
       "    </tr>\n",
       "    <tr>\n",
       "      <th>213589</th>\n",
       "      <td>5.018297</td>\n",
       "      <td>52.330368</td>\n",
       "      <td>1206984</td>\n",
       "      <td>18524</td>\n",
       "      <td>POINT (5.01830 52.33037)</td>\n",
       "    </tr>\n",
       "    <tr>\n",
       "      <th>213590</th>\n",
       "      <td>5.018074</td>\n",
       "      <td>52.330323</td>\n",
       "      <td>1208903</td>\n",
       "      <td>18540</td>\n",
       "      <td>POINT (5.01807 52.33032)</td>\n",
       "    </tr>\n",
       "    <tr>\n",
       "      <th>213591</th>\n",
       "      <td>5.017376</td>\n",
       "      <td>52.330178</td>\n",
       "      <td>1214915</td>\n",
       "      <td>18590</td>\n",
       "      <td>POINT (5.01738 52.33018)</td>\n",
       "    </tr>\n",
       "    <tr>\n",
       "      <th>213592</th>\n",
       "      <td>5.124681</td>\n",
       "      <td>52.300056</td>\n",
       "      <td>1478154</td>\n",
       "      <td>23599</td>\n",
       "      <td>POINT (5.12468 52.30006)</td>\n",
       "    </tr>\n",
       "    <tr>\n",
       "      <th>213593</th>\n",
       "      <td>5.116374</td>\n",
       "      <td>52.304180</td>\n",
       "      <td>1743345</td>\n",
       "      <td>24336</td>\n",
       "      <td>POINT (5.11637 52.30418)</td>\n",
       "    </tr>\n",
       "  </tbody>\n",
       "</table>\n",
       "<p>213594 rows × 5 columns</p>\n",
       "</div>"
      ],
      "text/plain": [
       "        longitude   latitude     time  distance                  geometry\n",
       "0        4.901700  52.379285        0         0  POINT (4.90170 52.37929)\n",
       "1        4.902685  52.378924     6245        78  POINT (4.90268 52.37892)\n",
       "2        4.904357  52.378351    16672       208  POINT (4.90436 52.37835)\n",
       "3        4.904407  52.378337    16973       212  POINT (4.90441 52.37834)\n",
       "4        4.904851  52.378233    19551       244  POINT (4.90485 52.37823)\n",
       "...           ...        ...      ...       ...                       ...\n",
       "213589   5.018297  52.330368  1206984     18524  POINT (5.01830 52.33037)\n",
       "213590   5.018074  52.330323  1208903     18540  POINT (5.01807 52.33032)\n",
       "213591   5.017376  52.330178  1214915     18590  POINT (5.01738 52.33018)\n",
       "213592   5.124681  52.300056  1478154     23599  POINT (5.12468 52.30006)\n",
       "213593   5.116374  52.304180  1743345     24336  POINT (5.11637 52.30418)\n",
       "\n",
       "[213594 rows x 5 columns]"
      ]
     },
     "execution_count": 2,
     "metadata": {},
     "output_type": "execute_result"
    }
   ],
   "source": [
    "from io import StringIO\n",
    "import requests\n",
    "\n",
    "import requests\n",
    "import logging\n",
    "import pandas as pd\n",
    "import geopandas as gpd\n",
    "from shapely.geometry import Point\n",
    "\n",
    "url = \"http://localhost:8989/spt?point=52.378523556085064,4.900950625832426&time_limit=1800&locale=en-US&profile=car\"\n",
    "\n",
    "payload={}\n",
    "headers = {}\n",
    "\n",
    "response = requests.request(\"GET\", url, headers=headers, data=payload)\n",
    "csvStringIO = StringIO(response.text)\n",
    "\n",
    "df = pd.read_csv(csvStringIO)\n",
    "\n",
    "df['geometry'] = df.apply(lambda x: Point(x.longitude, x.latitude), axis=1)\n",
    "gdf = gpd.GeoDataFrame(df, crs='EPSG:4326')\n",
    "gdf\n"
   ]
  },
  {
   "cell_type": "code",
   "execution_count": 4,
   "metadata": {},
   "outputs": [
    {
     "data": {
      "text/plain": [
       "<Axes: >"
      ]
     },
     "execution_count": 4,
     "metadata": {},
     "output_type": "execute_result"
    },
    {
     "data": {
      "image/png": "[encoded data removed]",
      "text/plain": [
       "<Figure size 640x480 with 1 Axes>"
      ]
     },
     "metadata": {},
     "output_type": "display_data"
    }
   ],
   "source": [
    "gdf[gdf.time > gdf.time.quantile(0.7)].plot()"
   ]
  },
  {
   "cell_type": "code",
   "execution_count": null,
   "metadata": {},
   "outputs": [],
   "source": []
  }
 ],
 "metadata": {
  "kernelspec": {
   "display_name": "DUTTv2",
   "language": "python",
   "name": "python3"
  },
  "language_info": {
   "codemirror_mode": {
    "name": "ipython",
    "version": 3
   },
   "file_extension": ".py",
   "mimetype": "text/x-python",
   "name": "python",
   "nbconvert_exporter": "python",
   "pygments_lexer": "ipython3",
   "version": "3.11.3"
  },
  "orig_nbformat": 4
 },
 "nbformat": 4,
 "nbformat_minor": 2
}
