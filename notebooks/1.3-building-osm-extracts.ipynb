{
 "cells": [
  {
   "cell_type": "code",
   "execution_count": 23,
   "metadata": {
    "ExecuteTime": {
     "end_time": "2020-07-06T19:12:02.317039Z",
     "start_time": "2020-07-06T19:12:02.104751Z"
    },
    "init_cell": true
   },
   "outputs": [
    {
     "name": "stderr",
     "output_type": "stream",
     "text": [
      "/Users/ivo/opt/anaconda3/envs/thesis-env/lib/python3.7/site-packages/tqdm/std.py:668: FutureWarning: The Panel class is removed from pandas. Accessing it from the top-level namespace will also be removed in the next version\n",
      "  from pandas import Panel\n"
     ]
    }
   ],
   "source": [
    "import glob\n",
    "import os\n",
    "import pandas as pd\n",
    "\n",
    "%matplotlib inline\n",
    "\n",
    "from tqdm.notebook import tqdm\n",
    "tqdm.pandas()\n",
    "\n",
    "DROOT = './data'"
   ]
  },
  {
   "cell_type": "markdown",
   "metadata": {},
   "source": [
    "https://osmcode.org/osmium-tool/manual.html"
   ]
  },
  {
   "cell_type": "code",
   "execution_count": 7,
   "metadata": {
    "ExecuteTime": {
     "end_time": "2020-07-06T15:00:42.750628Z",
     "start_time": "2020-07-06T15:00:42.694269Z"
    }
   },
   "outputs": [
    {
     "data": {
      "text/html": [
       "<div>\n",
       "<style scoped>\n",
       "    .dataframe tbody tr th:only-of-type {\n",
       "        vertical-align: middle;\n",
       "    }\n",
       "\n",
       "    .dataframe tbody tr th {\n",
       "        vertical-align: top;\n",
       "    }\n",
       "\n",
       "    .dataframe thead th {\n",
       "        text-align: right;\n",
       "    }\n",
       "</style>\n",
       "<table border=\"1\" class=\"dataframe\">\n",
       "  <thead>\n",
       "    <tr style=\"text-align: right;\">\n",
       "      <th></th>\n",
       "      <th>City</th>\n",
       "      <th>Continent</th>\n",
       "      <th>Order</th>\n",
       "      <th>Country</th>\n",
       "      <th>ctr_name</th>\n",
       "      <th>ctr_lat</th>\n",
       "      <th>ctr_lon</th>\n",
       "      <th>cellsanalysed</th>\n",
       "    </tr>\n",
       "  </thead>\n",
       "  <tbody>\n",
       "    <tr>\n",
       "      <th>54</th>\n",
       "      <td>São Paulo</td>\n",
       "      <td>SAM</td>\n",
       "      <td>3</td>\n",
       "      <td>BRA</td>\n",
       "      <td>Edifício Matarazzo</td>\n",
       "      <td>-23.547501</td>\n",
       "      <td>-46.637259</td>\n",
       "      <td>5211.0</td>\n",
       "    </tr>\n",
       "    <tr>\n",
       "      <th>55</th>\n",
       "      <td>Rio de Janeiro</td>\n",
       "      <td>SAM</td>\n",
       "      <td>3</td>\n",
       "      <td>BRA</td>\n",
       "      <td>Câmara Municipal do Rio de Janeiro</td>\n",
       "      <td>-22.909969</td>\n",
       "      <td>-43.176650</td>\n",
       "      <td>2007.0</td>\n",
       "    </tr>\n",
       "    <tr>\n",
       "      <th>56</th>\n",
       "      <td>Salvador</td>\n",
       "      <td>SAM</td>\n",
       "      <td>3</td>\n",
       "      <td>BRA</td>\n",
       "      <td>Câmara Municipal de Salvador</td>\n",
       "      <td>-12.974940</td>\n",
       "      <td>-38.512481</td>\n",
       "      <td>1756.0</td>\n",
       "    </tr>\n",
       "    <tr>\n",
       "      <th>57</th>\n",
       "      <td>Santiago</td>\n",
       "      <td>SAM</td>\n",
       "      <td>3</td>\n",
       "      <td>CHL</td>\n",
       "      <td>Congreso Nacional de Chile sede Santiago</td>\n",
       "      <td>-33.438357</td>\n",
       "      <td>-70.653394</td>\n",
       "      <td>4962.0</td>\n",
       "    </tr>\n",
       "    <tr>\n",
       "      <th>58</th>\n",
       "      <td>Bogota</td>\n",
       "      <td>SAM</td>\n",
       "      <td>3</td>\n",
       "      <td>COL</td>\n",
       "      <td>Palacio de lievano</td>\n",
       "      <td>4.598538</td>\n",
       "      <td>-74.076741</td>\n",
       "      <td>3192.0</td>\n",
       "    </tr>\n",
       "  </tbody>\n",
       "</table>\n",
       "</div>"
      ],
      "text/plain": [
       "              City Continent  Order Country  \\\n",
       "54       São Paulo       SAM      3     BRA   \n",
       "55  Rio de Janeiro       SAM      3     BRA   \n",
       "56        Salvador       SAM      3     BRA   \n",
       "57        Santiago       SAM      3     CHL   \n",
       "58          Bogota       SAM      3     COL   \n",
       "\n",
       "                                    ctr_name    ctr_lat    ctr_lon  \\\n",
       "54                        Edifício Matarazzo -23.547501 -46.637259   \n",
       "55        Câmara Municipal do Rio de Janeiro -22.909969 -43.176650   \n",
       "56              Câmara Municipal de Salvador -12.974940 -38.512481   \n",
       "57  Congreso Nacional de Chile sede Santiago -33.438357 -70.653394   \n",
       "58                        Palacio de lievano   4.598538 -74.076741   \n",
       "\n",
       "    cellsanalysed  \n",
       "54         5211.0  \n",
       "55         2007.0  \n",
       "56         1756.0  \n",
       "57         4962.0  \n",
       "58         3192.0  "
      ]
     },
     "execution_count": 7,
     "metadata": {},
     "output_type": "execute_result"
    }
   ],
   "source": [
    "city_list_df = pd.read_csv(os.path.join(DROOT, '1-raw', 'citylist.csv'))\n",
    "city_list_df.tail()"
   ]
  },
  {
   "cell_type": "code",
   "execution_count": 9,
   "metadata": {
    "ExecuteTime": {
     "end_time": "2020-07-06T15:02:06.969921Z",
     "start_time": "2020-07-06T15:01:20.669295Z"
    },
    "scrolled": false
   },
   "outputs": [
    {
     "data": {
      "application/vnd.jupyter.widget-view+json": {
       "model_id": "b2b5006875264efd99facff1163b6caa",
       "version_major": 2,
       "version_minor": 0
      },
      "text/plain": [
       "HBox(children=(FloatProgress(value=0.0, max=59.0), HTML(value='')))"
      ]
     },
     "metadata": {},
     "output_type": "display_data"
    },
    {
     "name": "stdout",
     "output_type": "stream",
     "text": [
      "\n"
     ]
    }
   ],
   "source": [
    "out_dict={}\n",
    "for city in tqdm(city_list_df.itertuples(), total=len(city_list_df)):\n",
    "    gdf_pop = pd.read_pickle(\n",
    "        os.path.join(DROOT, '3-interim', 'populationmasks', city.City + '.pcl'))\n",
    "    out_dict[city.City] = {\n",
    "        'continent': city.Continent,\n",
    "        'bbox': gdf_pop.total_bounds\n",
    "    }\n"
   ]
  },
  {
   "cell_type": "code",
   "execution_count": 22,
   "metadata": {
    "ExecuteTime": {
     "end_time": "2020-07-06T15:26:51.812500Z",
     "start_time": "2020-07-06T15:13:11.830587Z"
    },
    "scrolled": false
   },
   "outputs": [
    {
     "data": {
      "application/vnd.jupyter.widget-view+json": {
       "model_id": "65f970dcd3b64bc797735485cdb00cfd",
       "version_major": 2,
       "version_minor": 0
      },
      "text/plain": [
       "HBox(children=(FloatProgress(value=0.0, max=59.0), HTML(value='')))"
      ]
     },
     "metadata": {},
     "output_type": "display_data"
    },
    {
     "name": "stdout",
     "output_type": "stream",
     "text": [
      "- Vienna already generated\n",
      "- Graz already generated\n",
      "- Brussels already generated\n",
      "- Berlin already generated\n",
      "- Hamburg already generated\n",
      "- Copenhagen already generated\n",
      "- Aarhus already generated\n",
      "- Madrid already generated\n",
      "- Barcelona already generated\n",
      "- Paris already generated\n",
      "- Marseille already generated\n",
      "- London already generated\n",
      "- Birmingham already generated\n",
      "- York already generated\n",
      "- Luxembourg already generated\n",
      "- Amsterdam already generated\n",
      "- Utrecht already generated\n",
      "Milan: \"../../openrouteservice/docker/data/Milan.osm.gz\"\n",
      "[======================================================================] 100% >                                ]  53% \n",
      "Rome: \"../../openrouteservice/docker/data/Rome.osm.gz\"\n",
      "[======================================================================] 100% \n",
      "- Stockholm already generated\n",
      "- Gothenburg already generated\n",
      "- Helsinki already generated\n",
      "- Oslo already generated\n",
      "- Warsaw already generated\n",
      "- Lisbon already generated\n",
      "- Bern already generated\n",
      "- Prague already generated\n",
      "- Tallinn already generated\n",
      "- Budapest already generated\n",
      "- Dublin already generated\n",
      "- Riga already generated\n",
      "- Perth already generated\n",
      "- Sydney already generated\n",
      "- Melbourne already generated\n",
      "- Adelaide already generated\n",
      "- Auckland already generated\n",
      "- Wellington already generated\n",
      "- Mumbai already generated\n",
      "- Delhi [New Delhi] already generated\n",
      "- Kuala Lumpur already generated\n",
      "- Toronto already generated\n",
      "- Montreal already generated\n",
      "- Calgary already generated\n",
      "- New York already generated\n",
      "- Los Angeles already generated\n",
      "- Chicago already generated\n",
      "- Houston already generated\n",
      "- Philadelphia already generated\n",
      "- Phoenix already generated\n",
      "- Portland already generated\n",
      "- San Antonio already generated\n",
      "- Dallas already generated\n",
      "- Mexico City already generated\n",
      "- Buenos Aires already generated\n",
      "- São Paulo already generated\n",
      "- Rio de Janeiro already generated\n",
      "- Salvador already generated\n",
      "- Santiago already generated\n",
      "- Bogota already generated\n",
      "\n"
     ]
    }
   ],
   "source": [
    "docker_root = '../../openrouteservice/docker/'\n",
    "# Translate continent to the osm-file.\n",
    "con2osm = {\n",
    "    'EUR': 'europe-latest',\n",
    "    'OCE': 'australia-oceania-latest',\n",
    "    'ASI': 'asia-latest',\n",
    "    'NAM': 'north-america-latest',\n",
    "    'SAM': 'south-america-latest',\n",
    "}\n",
    "\n",
    "# Generate OSM extract for every item.\n",
    "for city, props in tqdm(out_dict.items()):\n",
    "\n",
    "    srcp = os.path.join(DROOT, '2-external', 'osmpbf', \n",
    "                        con2osm[props['continent']] + '.osm.pbf')\n",
    "    dstp = os.path.join(docker_root, 'data', f'{city}.osm.gz')\n",
    "    \n",
    "    # Skip if already generated.\n",
    "    if os.path.isfile(dstp):\n",
    "        print(\"- {} already generated\".format(city))\n",
    "        continue\n",
    "        \n",
    "    bbox = ','.join([str(b) for b in props['bbox']])\n",
    "\n",
    "    # Add asterisks for using in osmium\n",
    "    dstp = f'\"{dstp}\"'\n",
    "    print(city + ': ' + dstp)\n",
    "    !osmium extract --bbox $bbox $srcp --output $dstp"
   ]
  },
  {
   "cell_type": "code",
   "execution_count": null,
   "metadata": {},
   "outputs": [],
   "source": []
  }
 ],
 "metadata": {
  "celltoolbar": "Initialization Cell",
  "kernelspec": {
   "display_name": "Python 3",
   "language": "python",
   "name": "python3"
  },
  "language_info": {
   "codemirror_mode": {
    "name": "ipython",
    "version": 3
   },
   "file_extension": ".py",
   "mimetype": "text/x-python",
   "name": "python",
   "nbconvert_exporter": "python",
   "pygments_lexer": "ipython3",
   "version": "3.7.6"
  }
 },
 "nbformat": 4,
 "nbformat_minor": 4
}
