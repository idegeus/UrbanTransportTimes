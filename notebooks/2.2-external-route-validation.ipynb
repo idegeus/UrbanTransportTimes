{
 "cells": [
  {
   "cell_type": "code",
   "execution_count": 29,
   "metadata": {
    "ExecuteTime": {
     "end_time": "2020-07-06T22:21:50.064594Z",
     "start_time": "2020-07-06T22:21:50.019705Z"
    },
    "init_cell": true
   },
   "outputs": [],
   "source": [
    "import requests\n",
    "import json\n",
    "import os\n",
    "import time\n",
    "from datetime import datetime\n",
    "import numpy as np\n",
    "import pandas as pd\n",
    "from shapely.geometry import Point\n",
    "import geopandas as gpd\n",
    "%matplotlib inline\n",
    "import matplotlib.pyplot as plt\n",
    "from tqdm.notebook import tqdm\n",
    "tqdm.pandas()\n",
    "from random import random\n",
    "\n",
    "import json\n",
    "\n",
    "import seaborn as sns\n",
    "sns.set()\n",
    "\n",
    "from dotenv import load_dotenv\n",
    "load_dotenv()\n",
    "\n",
    "DROOT = './data/'\n",
    "GOOGLE_KEY = os.getenv(\"GOOGLE_KEY\")\n",
    "CS_KEY = os.getenv(\"CYCLESTREETS_KEY\")"
   ]
  },
  {
   "cell_type": "code",
   "execution_count": 30,
   "metadata": {
    "ExecuteTime": {
     "end_time": "2020-07-06T22:21:50.073615Z",
     "start_time": "2020-07-06T22:21:50.067975Z"
    },
    "init_cell": true
   },
   "outputs": [],
   "source": [
    "def point2string(point):\n",
    "    \"\"\"Returns a lat,lon formatted string from a shapely.geometry.Point.\"\"\"\n",
    "    return \"{},{}\".format(round(point.y, 5), round(point.x, 5))"
   ]
  },
  {
   "cell_type": "markdown",
   "metadata": {
    "heading_collapsed": true
   },
   "source": [
    "## Google Maps"
   ]
  },
  {
   "cell_type": "code",
   "execution_count": 31,
   "metadata": {
    "ExecuteTime": {
     "end_time": "2020-07-06T22:21:50.097872Z",
     "start_time": "2020-07-06T22:21:50.079545Z"
    },
    "hidden": true,
    "init_cell": true,
    "scrolled": false
   },
   "outputs": [],
   "source": [
    "def google_query(origin, dest, mode, dstamp):\n",
    "    \n",
    "    url = \"https://maps.googleapis.com/maps/api/directions/json\"\n",
    "    departure_time = int(dstamp.timestamp())\n",
    "\n",
    "    modes = ['driving', 'walking', 'bicycling', 'transit']\n",
    "    assert mode in modes\n",
    "    \n",
    "    params = {\n",
    "        \"key\": GOOGLE_KEY,\n",
    "        \"origin\": \"{},{}\".format(origin.y, origin.x),\n",
    "        \"destination\": \"{},{}\".format(dest.y, dest.x),\n",
    "        \"mode\": mode,\n",
    "        \"units\": \"metric\",\n",
    "        \"departure_time\": departure_time\n",
    "\n",
    "    }\n",
    "    response = requests.get(url, params=params)\n",
    "\n",
    "    result = response.json()\n",
    "\n",
    "    try:\n",
    "        route = result['routes'][0]['legs'][0]\n",
    "\n",
    "        details = {\n",
    "            'distance': route['distance']['value'] / 1000,\n",
    "            'travelTime': route['duration']['value']\n",
    "        }\n",
    "\n",
    "        if 'duration_in_traffic' in route:\n",
    "            details['travelTime'] = route['duration_in_traffic']['value']\n",
    "    except: \n",
    "        details = {\n",
    "            'distance': None,\n",
    "            'travelTime': None\n",
    "        }\n",
    "        \n",
    "    return details"
   ]
  },
  {
   "cell_type": "code",
   "execution_count": 32,
   "metadata": {
    "ExecuteTime": {
     "end_time": "2020-07-06T22:21:50.125460Z",
     "start_time": "2020-07-06T22:21:50.104570Z"
    },
    "hidden": true,
    "init_cell": true
   },
   "outputs": [],
   "source": [
    "def google_fetch(row):\n",
    "    \n",
    "    filepath = os.path.join(\n",
    "        DROOT, '3-interim', 'th_validation', 'fetched', \n",
    "        point2string(row.geometry.centroid) + '_' + point2string(row.destination) + '_google.pcl'\n",
    "    )\n",
    "    \n",
    "    if os.path.exists(filepath):\n",
    "        row = pd.read_pickle(filepath)\n",
    "    else:\n",
    "    \n",
    "        dep_time = datetime(2020, 7, 7, 8)\n",
    "\n",
    "        print('.', end='')\n",
    "        bicycling = google_query(row.geometry.centroid, row.destination, \n",
    "                                 'bicycling', dep_time)\n",
    "        row['bike_d_ggl'] = bicycling['distance']\n",
    "        row['bike_t_ggl'] = bicycling['travelTime']\n",
    "\n",
    "        print('.', end='')\n",
    "        car_r = google_query(row.geometry.centroid, row.destination, \n",
    "                                 'driving', dep_time)\n",
    "        row['car_r_d_ggl'] = car_r['distance']\n",
    "        row['car_r_t_ggl'] = car_r['travelTime']\n",
    "\n",
    "        print('.', end='')\n",
    "        pt_r = google_query(row.geometry.centroid, row.destination, \n",
    "                                 'transit', dep_time)\n",
    "        row['pt_r_d_ggl'] = pt_r['distance']\n",
    "        row['pt_r_t_ggl'] = pt_r['travelTime']\n",
    "\n",
    "        print('.', end='')\n",
    "        walking = google_query(row.geometry.centroid, row.destination, \n",
    "                                 'walking', dep_time)\n",
    "        row['walk_d_ggl'] = walking['distance']\n",
    "        row['walk_t_ggl'] = walking['travelTime']\n",
    "\n",
    "        dep_time = datetime(2020, 7, 7, 12)\n",
    "\n",
    "        print('.', end='')\n",
    "        car_m = google_query(row.geometry.centroid, row.destination, \n",
    "                                 'driving', dep_time)\n",
    "        row['car_m_d_ggl'] = car_m['distance']\n",
    "        row['car_m_t_ggl'] = car_m['travelTime']\n",
    "\n",
    "        print('.', end='')\n",
    "        pt_m = google_query(row.geometry.centroid, row.destination, \n",
    "                                 'transit', dep_time)\n",
    "        row['pt_m_d_ggl'] = pt_m['distance']\n",
    "        row['pt_m_t_ggl'] = pt_m['travelTime']\n",
    "\n",
    "        row.to_pickle(filepath)\n",
    "\n",
    "    return row"
   ]
  },
  {
   "cell_type": "markdown",
   "metadata": {
    "heading_collapsed": true
   },
   "source": [
    "## CycleStreets"
   ]
  },
  {
   "cell_type": "code",
   "execution_count": 33,
   "metadata": {
    "ExecuteTime": {
     "end_time": "2020-07-06T22:21:50.144751Z",
     "start_time": "2020-07-06T22:21:50.133190Z"
    },
    "hidden": true,
    "init_cell": true
   },
   "outputs": [],
   "source": [
    "def cyclestreets_query(origin, dest):\n",
    "    \n",
    "    url = \"https://www.cyclestreets.net/api/journey.json\"\n",
    "\n",
    "    params = {\n",
    "        \"key\": CS_KEY,\n",
    "        \"itinerarypoints\": \"{},{}|{},{}\".format(\n",
    "            origin.x, origin.y, dest.x, dest.y),\n",
    "        \"plan\": 'balanced',\n",
    "        \"speed\": 24\n",
    "\n",
    "    }\n",
    "    response = requests.get(url, params=params)\n",
    "\n",
    "    result = response.json()\n",
    "    with open('./tmp.json', 'w') as file:\n",
    "        json.dump(result, file)\n",
    "\n",
    "    \n",
    "    try:\n",
    "        route = result['marker'][0]['@attributes']\n",
    "        details = {\n",
    "            'distance': float(route['length']) / 1000,\n",
    "            'travelTime': float(route['time'])\n",
    "        }\n",
    "    except: \n",
    "        details = {\n",
    "            'distance': None,\n",
    "            'travelTime': None\n",
    "        }\n",
    "        \n",
    "    return details"
   ]
  },
  {
   "cell_type": "code",
   "execution_count": 34,
   "metadata": {
    "ExecuteTime": {
     "end_time": "2020-07-06T22:21:50.154965Z",
     "start_time": "2020-07-06T22:21:50.148083Z"
    },
    "hidden": true,
    "init_cell": true
   },
   "outputs": [],
   "source": [
    "def cs_fetch(row):\n",
    "    \n",
    "    filepath = os.path.join(\n",
    "        DROOT, '3-interim', 'th_validation', 'fetched', \n",
    "        point2string(row.geometry.centroid) + '_' + point2string(row.destination) + '_cs.pcl'\n",
    "    )\n",
    "    if os.path.exists(filepath):\n",
    "        cached = pd.read_pickle(filepath)\n",
    "        row['bike_d_cs'] = cached['bike_d_cs']\n",
    "        row['bike_t_cs'] = cached['bike_t_cs']\n",
    "    else:\n",
    "        bicycling = cyclestreets_query(row.geometry.centroid, row.destination)\n",
    "        row['bike_d_cs'] = bicycling['distance']\n",
    "        row['bike_t_cs'] = bicycling['travelTime']\n",
    "\n",
    "    row.to_pickle(filepath)\n",
    "    return row"
   ]
  },
  {
   "cell_type": "markdown",
   "metadata": {},
   "source": [
    "## Query"
   ]
  },
  {
   "cell_type": "code",
   "execution_count": 35,
   "metadata": {
    "ExecuteTime": {
     "end_time": "2020-07-06T22:22:09.641966Z",
     "start_time": "2020-07-06T22:21:50.157958Z"
    },
    "init_cell": true
   },
   "outputs": [],
   "source": [
    "# Get all cities to be retrieved from 1.0\n",
    "city_list_df = pd.read_csv(os.path.join(DROOT, '1-raw', 'citylist.csv'))\n",
    "city_list_df['geometry'] = city_list_df.apply(\n",
    "    lambda row: Point(row.ctr_lon, row.ctr_lat), axis=1)\n",
    "city_list_df = gpd.GeoDataFrame(city_list_df, crs=4326)\n",
    "\n",
    "gdf_total = gpd.read_file(os.path.join(DROOT, '4-processed', \n",
    "                                      'complete-dataset.gpkg'))"
   ]
  },
  {
   "cell_type": "code",
   "execution_count": 139,
   "metadata": {
    "ExecuteTime": {
     "end_time": "2020-07-03T21:29:04.985131Z",
     "start_time": "2020-07-03T21:29:04.291556Z"
    },
    "scrolled": false
   },
   "outputs": [
    {
     "name": "stdout",
     "output_type": "stream",
     "text": [
      "2850 samples to be validated.\n"
     ]
    },
    {
     "data": {
      "text/html": [
       "<div>\n",
       "<style scoped>\n",
       "    .dataframe tbody tr th:only-of-type {\n",
       "        vertical-align: middle;\n",
       "    }\n",
       "\n",
       "    .dataframe tbody tr th {\n",
       "        vertical-align: top;\n",
       "    }\n",
       "\n",
       "    .dataframe thead th {\n",
       "        text-align: right;\n",
       "    }\n",
       "</style>\n",
       "<table border=\"1\" class=\"dataframe\">\n",
       "  <thead>\n",
       "    <tr style=\"text-align: right;\">\n",
       "      <th></th>\n",
       "      <th>city</th>\n",
       "      <th>cell_id</th>\n",
       "      <th>cell_pop</th>\n",
       "      <th>sky_d</th>\n",
       "      <th>walk_d</th>\n",
       "      <th>walk_t</th>\n",
       "      <th>pt_r_d</th>\n",
       "      <th>pt_r_t</th>\n",
       "      <th>pt_r_it</th>\n",
       "      <th>pt_m_d</th>\n",
       "      <th>pt_m_t</th>\n",
       "      <th>pt_m_it</th>\n",
       "      <th>bike_d</th>\n",
       "      <th>bike_t</th>\n",
       "      <th>car_r_d</th>\n",
       "      <th>car_r_t</th>\n",
       "      <th>car_m_d</th>\n",
       "      <th>car_m_t</th>\n",
       "      <th>geometry</th>\n",
       "      <th>destination</th>\n",
       "    </tr>\n",
       "  </thead>\n",
       "  <tbody>\n",
       "    <tr>\n",
       "      <th>82241</th>\n",
       "      <td>Budapest</td>\n",
       "      <td>1133</td>\n",
       "      <td>468.773834</td>\n",
       "      <td>2.228325</td>\n",
       "      <td>2.886</td>\n",
       "      <td>2077.0</td>\n",
       "      <td>4.591</td>\n",
       "      <td>1553.0</td>\n",
       "      <td>1176.0</td>\n",
       "      <td>3.857</td>\n",
       "      <td>1383.0</td>\n",
       "      <td>300.0</td>\n",
       "      <td>2.9925</td>\n",
       "      <td>640.0</td>\n",
       "      <td>4.242</td>\n",
       "      <td>991.0</td>\n",
       "      <td>4.242</td>\n",
       "      <td>917.0</td>\n",
       "      <td>POLYGON ((19.01861 47.52615, 19.01807 47.52380...</td>\n",
       "      <td>POINT (19.02881 47.504423)</td>\n",
       "    </tr>\n",
       "    <tr>\n",
       "      <th>20773</th>\n",
       "      <td>Copenhagen</td>\n",
       "      <td>1378</td>\n",
       "      <td>445.682037</td>\n",
       "      <td>4.715185</td>\n",
       "      <td>5.334</td>\n",
       "      <td>3840.0</td>\n",
       "      <td>7.577</td>\n",
       "      <td>1264.0</td>\n",
       "      <td>1200.0</td>\n",
       "      <td>7.577</td>\n",
       "      <td>1264.0</td>\n",
       "      <td>1200.0</td>\n",
       "      <td>5.7902</td>\n",
       "      <td>1195.1</td>\n",
       "      <td>6.741</td>\n",
       "      <td>1081.0</td>\n",
       "      <td>6.741</td>\n",
       "      <td>948.0</td>\n",
       "      <td>POLYGON ((12.49270 55.68593, 12.49219 55.68342...</td>\n",
       "      <td>POINT (12.5693554 55.6753682)</td>\n",
       "    </tr>\n",
       "  </tbody>\n",
       "</table>\n",
       "</div>"
      ],
      "text/plain": [
       "             city  cell_id    cell_pop     sky_d  walk_d  walk_t  pt_r_d  \\\n",
       "82241    Budapest     1133  468.773834  2.228325   2.886  2077.0   4.591   \n",
       "20773  Copenhagen     1378  445.682037  4.715185   5.334  3840.0   7.577   \n",
       "\n",
       "       pt_r_t  pt_r_it  pt_m_d  pt_m_t  pt_m_it  bike_d  bike_t  car_r_d  \\\n",
       "82241  1553.0   1176.0   3.857  1383.0    300.0  2.9925   640.0    4.242   \n",
       "20773  1264.0   1200.0   7.577  1264.0   1200.0  5.7902  1195.1    6.741   \n",
       "\n",
       "       car_r_t  car_m_d  car_m_t  \\\n",
       "82241    991.0    4.242    917.0   \n",
       "20773   1081.0    6.741    948.0   \n",
       "\n",
       "                                                geometry  \\\n",
       "82241  POLYGON ((19.01861 47.52615, 19.01807 47.52380...   \n",
       "20773  POLYGON ((12.49270 55.68593, 12.49219 55.68342...   \n",
       "\n",
       "                         destination  \n",
       "82241     POINT (19.02881 47.504423)  \n",
       "20773  POINT (12.5693554 55.6753682)  "
      ]
     },
     "execution_count": 139,
     "metadata": {},
     "output_type": "execute_result"
    }
   ],
   "source": [
    "# samples_unfiltered\n",
    "gdf_samples_uf = gpd.GeoDataFrame()\n",
    "\n",
    "# Get all townhalls generated in 1.1\n",
    "for cityname, citydf in gdf_total.groupby('city'):\n",
    "\n",
    "    city_info = city_list_df[city_list_df.City == cityname].iloc[0]\n",
    "    gdf_sample = citydf.sample(50, random_state=30)\n",
    "    gdf_sample['destination'] = city_info.geometry\n",
    "\n",
    "    gdf_samples_uf = gdf_samples_uf.append(gdf_sample)\n",
    "\n",
    "print(len(gdf_samples_uf), 'samples to be validated.')\n",
    "\n",
    "gdf_samples_uf.to_pickle(os.path.join(DROOT, '3-interim', 'th_validation', 'th-samples.pcl'))\n",
    "gdf_samples_uf.sample(2, random_state=5).head()"
   ]
  },
  {
   "cell_type": "code",
   "execution_count": 143,
   "metadata": {
    "ExecuteTime": {
     "end_time": "2020-07-03T21:37:49.231072Z",
     "start_time": "2020-07-03T21:36:25.894156Z"
    },
    "scrolled": false
   },
   "outputs": [
    {
     "data": {
      "application/vnd.jupyter.widget-view+json": {
       "model_id": "de1037f9773640ada53a97b94f4a66be",
       "version_major": 2,
       "version_minor": 0
      },
      "text/plain": [
       "HBox(children=(FloatProgress(value=0.0, max=2850.0), HTML(value='')))"
      ]
     },
     "metadata": {},
     "output_type": "display_data"
    },
    {
     "name": "stdout",
     "output_type": "stream",
     "text": [
      "..........................................................................................................................................\n"
     ]
    },
    {
     "data": {
      "application/vnd.jupyter.widget-view+json": {
       "model_id": "bed7020a899e45acb91c51955d9fa2c1",
       "version_major": 2,
       "version_minor": 0
      },
      "text/plain": [
       "HBox(children=(FloatProgress(value=0.0, max=2850.0), HTML(value='')))"
      ]
     },
     "metadata": {},
     "output_type": "display_data"
    },
    {
     "name": "stdout",
     "output_type": "stream",
     "text": [
      "\n"
     ]
    }
   ],
   "source": [
    "gdf_samples_uf = gdf_samples_uf.progress_apply(google_fetch, axis=1)\n",
    "gdf_samples_uf = gdf_samples_uf.progress_apply(cs_fetch, axis=1)\n",
    "gdf_samples_uf.to_pickle(\n",
    "    os.path.join(DROOT, '3-interim', 'th_validation', 'th-samples-fetched.pcl'))"
   ]
  },
  {
   "cell_type": "markdown",
   "metadata": {},
   "source": [
    "## Results"
   ]
  },
  {
   "cell_type": "code",
   "execution_count": null,
   "metadata": {
    "ExecuteTime": {
     "end_time": "2020-07-03T06:37:04.442822Z",
     "start_time": "2020-07-03T06:36:48.437Z"
    }
   },
   "outputs": [],
   "source": [
    "# Remove outliers from the dataset.\n",
    "gdf_samples = gdf_samples_uf[\n",
    "    (gdf_samples_uf.pt_r_t_ggl < gdf_samples_uf.pt_r_t_ggl.quantile(0.98))\n",
    "    & (gdf_samples_uf.pt_r_t < gdf_samples_uf.pt_r_t.quantile(0.98))\n",
    "    & (gdf_samples_uf.car_r_t < gdf_samples_uf.car_r_t.quantile(0.98))\n",
    "].copy()\n",
    "\n",
    "# Add origin centroid\n",
    "gdf_samples['origin'] = gdf_samples.geometry.centroid\n",
    "\n",
    "# Transform time units to minutes.\n",
    "gdf_samples[[\n",
    "    'walk_t', 'walk_t_ggl',\n",
    "    'bike_t', 'bike_t_ggl', 'bike_t_cs',\n",
    "    'car_r_t', 'car_r_t_ggl', \n",
    "    'car_m_t', 'car_m_t_ggl',\n",
    "    'pt_r_t', 'pt_r_t_ggl', \n",
    "    'pt_m_t', 'pt_m_t_ggl',\n",
    " ]] /= 60"
   ]
  },
  {
   "cell_type": "code",
   "execution_count": null,
   "metadata": {
    "ExecuteTime": {
     "end_time": "2020-07-03T06:37:04.446345Z",
     "start_time": "2020-07-03T06:36:48.761Z"
    }
   },
   "outputs": [],
   "source": [
    "translate = {\n",
    " 'walk_t': 'Bing',\n",
    " 'pt_r_t': 'Bing',\n",
    " 'pt_m_t': 'Bing',\n",
    " 'bike_t': 'O R S',\n",
    " 'car_r_t': 'Bing',\n",
    " 'car_m_t': 'Bing',\n",
    " 'bike_t_ggl': 'Google',\n",
    " 'car_r_t_ggl': 'Google',\n",
    " 'pt_r_t_ggl': 'Google',\n",
    " 'walk_t_ggl': 'Google',\n",
    " 'car_m_t_ggl': 'Google',\n",
    " 'pt_m_t_ggl': 'Google',\n",
    " 'bike_t_cs': 'C S',\n",
    "}"
   ]
  },
  {
   "cell_type": "code",
   "execution_count": 115,
   "metadata": {
    "ExecuteTime": {
     "end_time": "2020-07-02T20:45:25.744939Z",
     "start_time": "2020-07-02T20:45:24.450054Z"
    }
   },
   "outputs": [
    {
     "data": {
      "image/png": "[encoded data removed]",
      "text/plain": [
       "<Figure size 1080x288 with 6 Axes>"
      ]
     },
     "metadata": {},
     "output_type": "display_data"
    }
   ],
   "source": [
    "fig, axs = plt.subplots(ncols=6, nrows=1, figsize=(12,3), dpi=150, tight_layout=True)\n",
    "axs = axs.flatten()\n",
    "\n",
    "# fig.subplots_adjust(top=0.93)\n",
    "# fig.suptitle('Difference in results, n={}, travel time in seconds.'.format(len(gdf_sample_set)))\n",
    "\n",
    "lmdn = lambda series: series.median()*0.9\n",
    "hmdn = lambda series: series.median()*1.1\n",
    "\n",
    "# First row: Walking, Car (RH) and Transit (RH)\n",
    "axs[0].axhspan(lmdn(gdf_samples.walk_t), hmdn(gdf_samples.walk_t), \n",
    "               color='r', alpha=0.2, zorder=0)\n",
    "sns.violinplot(data=gdf_samples[['walk_t', 'walk_t_ggl']].rename(columns=translate), \n",
    "               width=0.7, ax=axs[0], )\n",
    "axs[0].set_title('Walking')\n",
    "\n",
    "axs[1].axhspan(lmdn(gdf_samples.bike_t), hmdn(gdf_samples.bike_t), \n",
    "               color='r', alpha=0.2, zorder=0)\n",
    "sns.violinplot(data=gdf_samples[['bike_t', 'bike_t_ggl', 'bike_t_cs']].rename(columns=translate), \n",
    "               width=0.7, ax=axs[1], zorder=2, )\n",
    "axs[1].set_title('Bicycling')\n",
    "\n",
    "axs[2].axhspan(lmdn(gdf_samples.car_r_t), hmdn(gdf_samples.car_r_t), \n",
    "               color='r', alpha=0.2, zorder=0)\n",
    "sns.violinplot(data=gdf_samples[['car_r_t', 'car_r_t_ggl']].rename(columns=translate), \n",
    "               width=0.7, ax=axs[2], zorder=2)\n",
    "axs[2].set_title('Driving in rush-hour')\n",
    "\n",
    "axs[3].axhspan(lmdn(gdf_samples.car_m_t), hmdn(gdf_samples.car_m_t), \n",
    "               color='r', alpha=0.2, zorder=0)\n",
    "sns.violinplot(data=gdf_samples[['car_m_t', 'car_m_t_ggl']].rename(columns=translate), \n",
    "               width=0.7, ax=axs[3], zorder=2)\n",
    "axs[3].set_title('Driving at midday')\n",
    "\n",
    "axs[4].axhspan(lmdn(gdf_samples.pt_r_t), hmdn(gdf_samples.pt_r_t), \n",
    "               color='r', alpha=0.2, zorder=0)\n",
    "sns.violinplot(data=gdf_samples[['pt_r_t', 'pt_r_t_ggl']].rename(columns=translate), \n",
    "               width=0.7, ax=axs[4], zorder=2)\n",
    "axs[4].set_title('Transit in rush-hour')\n",
    "\n",
    "axs[5].axhspan(lmdn(gdf_samples.pt_m_t), hmdn(gdf_samples.pt_m_t), \n",
    "               color='r', alpha=0.2, zorder=0)\n",
    "sns.violinplot(data=gdf_samples[['pt_m_t', 'pt_m_t_ggl']].rename(columns=translate), \n",
    "               width=0.7, ax=axs[5], zorder=2)\n",
    "axs[5].set_title('Transit at midday')\n",
    "\n",
    "# Save figure to disk. \n",
    "fig.savefig(\n",
    "    os.path.join(DROOT, '5-graphs', 'comparing-travel-time-services.png'))\n"
   ]
  }
 ],
 "metadata": {
  "celltoolbar": "Initialization Cell",
  "kernelspec": {
   "display_name": "Python [conda env:thesis-env] *",
   "language": "python",
   "name": "conda-env-thesis-env-py"
  },
  "language_info": {
   "codemirror_mode": {
    "name": "ipython",
    "version": 3
   },
   "file_extension": ".py",
   "mimetype": "text/x-python",
   "name": "python",
   "nbconvert_exporter": "python",
   "pygments_lexer": "ipython3",
   "version": "3.7.6"
  }
 },
 "nbformat": 4,
 "nbformat_minor": 4
}
