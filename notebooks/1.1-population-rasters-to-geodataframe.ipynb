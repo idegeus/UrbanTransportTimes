{
 "cells": [
  {
   "cell_type": "markdown",
   "metadata": {},
   "source": [
    "# Setup libraries and working data\n",
    "Load libraries and set up working directories."
   ]
  },
  {
   "cell_type": "code",
   "execution_count": 19,
   "metadata": {
    "ExecuteTime": {
     "end_time": "2020-07-07T09:49:32.750675Z",
     "start_time": "2020-07-07T09:49:32.733413Z"
    },
    "init_cell": true
   },
   "outputs": [
    {
     "name": "stderr",
     "output_type": "stream",
     "text": [
      "/Users/ivo/opt/anaconda3/envs/thesis-env/lib/python3.7/site-packages/tqdm/std.py:668: FutureWarning: The Panel class is removed from pandas. Accessing it from the top-level namespace will also be removed in the next version\n",
      "  from pandas import Panel\n"
     ]
    }
   ],
   "source": [
    "import os\n",
    "import os.path\n",
    "import glob\n",
    "import numpy as np\n",
    "import pandas as pd\n",
    "import geopandas as gpd\n",
    "from math import ceil\n",
    "from random import random\n",
    "import json\n",
    "\n",
    "from shapely.geometry import Point\n",
    "from shapely.geometry import shape\n",
    "import matplotlib.pyplot as plt\n",
    "import contextily as ctx\n",
    "from tqdm.notebook import tqdm\n",
    "tqdm.pandas()\n",
    "\n",
    "import rasterio\n",
    "from rasterio.plot import show\n",
    "from rasterio.plot import show_hist\n",
    "from rasterio.mask import mask\n",
    "from rasterio.features import shapes\n",
    "from rasterio.features import dataset_features\n",
    "\n",
    "from pyproj import CRS\n",
    "\n",
    "%matplotlib inline\n",
    "\n",
    "DROOT = './data/'\n",
    "os.makedirs(os.path.join(DROOT, '3-interim', 'populationmasks'), exist_ok=True)\n"
   ]
  },
  {
   "cell_type": "markdown",
   "metadata": {},
   "source": [
    "# General methods\n",
    "Define methods to be used in the procedures below."
   ]
  },
  {
   "cell_type": "code",
   "execution_count": 20,
   "metadata": {
    "ExecuteTime": {
     "end_time": "2020-07-07T09:49:32.758577Z",
     "start_time": "2020-07-07T09:49:32.754229Z"
    },
    "init_cell": true
   },
   "outputs": [],
   "source": [
    "# Convert single GeoDataFrame Polygon to GeoJSON\n",
    "def get_mask_coords(gdf): \n",
    "    \"\"\"Get the first polygon in a GeoDataFrame as GeoJSON.\"\"\"\n",
    "    return [json.loads(gdf.to_json())['features'][0]['geometry']]"
   ]
  },
  {
   "cell_type": "code",
   "execution_count": 21,
   "metadata": {
    "ExecuteTime": {
     "end_time": "2020-07-07T09:49:32.768582Z",
     "start_time": "2020-07-07T09:49:32.762392Z"
    },
    "init_cell": true
   },
   "outputs": [],
   "source": [
    "def mask_popcenter_from_raster(gdf_entry, raster, tiff_out):\n",
    "    \n",
    "    out_img, out_transform = mask(\n",
    "        dataset=raster, \n",
    "        shapes=get_mask_coords(gdf_entry), \n",
    "        crop=True)\n",
    "\n",
    "    # Write out for usage a bit further onwards due to limitations in rasterio.\n",
    "    out_meta = pop.meta.copy()\n",
    "    out_meta.update({\n",
    "        \"driver\": \"GTiff\",\n",
    "         \"height\": out_img.shape[1],\n",
    "         \"width\": out_img.shape[2],\n",
    "         \"transform\": out_transform,\n",
    "         \"crs\": pop.crs\n",
    "    })\n",
    "\n",
    "    with rasterio.open(tiff_out, \"w\", **out_meta) as dest:\n",
    "        dest.write(out_img)"
   ]
  },
  {
   "cell_type": "markdown",
   "metadata": {},
   "source": [
    "### Search city details quickly:"
   ]
  },
  {
   "cell_type": "code",
   "execution_count": 13,
   "metadata": {
    "ExecuteTime": {
     "end_time": "2020-07-06T13:20:53.557659Z",
     "start_time": "2020-07-06T13:20:52.624237Z"
    }
   },
   "outputs": [
    {
     "name": "stdout",
     "output_type": "stream",
     "text": [
      "Name: Rome\n"
     ]
    },
    {
     "data": {
      "text/html": [
       "<div>\n",
       "<style scoped>\n",
       "    .dataframe tbody tr th:only-of-type {\n",
       "        vertical-align: middle;\n",
       "    }\n",
       "\n",
       "    .dataframe tbody tr th {\n",
       "        vertical-align: top;\n",
       "    }\n",
       "\n",
       "    .dataframe thead th {\n",
       "        text-align: right;\n",
       "    }\n",
       "</style>\n",
       "<table border=\"1\" class=\"dataframe\">\n",
       "  <thead>\n",
       "    <tr style=\"text-align: right;\">\n",
       "      <th></th>\n",
       "      <th>CTR_MN_NM</th>\n",
       "      <th>CTR_MN_ISO</th>\n",
       "      <th>UC_NM_MN</th>\n",
       "      <th>UC_NM_LST</th>\n",
       "    </tr>\n",
       "  </thead>\n",
       "  <tbody>\n",
       "    <tr>\n",
       "      <th>2896</th>\n",
       "      <td>Italy</td>\n",
       "      <td>ITA</td>\n",
       "      <td>Rome</td>\n",
       "      <td>Rome</td>\n",
       "    </tr>\n",
       "  </tbody>\n",
       "</table>\n",
       "</div>"
      ],
      "text/plain": [
       "     CTR_MN_NM CTR_MN_ISO UC_NM_MN UC_NM_LST\n",
       "2896     Italy        ITA     Rome      Rome"
      ]
     },
     "execution_count": 13,
     "metadata": {},
     "output_type": "execute_result"
    }
   ],
   "source": [
    "name = input('Name: ')\n",
    "result = urbancenter_gdf[urbancenter_gdf.UC_NM_MN.str.contains(name)]\n",
    "result[['CTR_MN_NM', 'CTR_MN_ISO', 'UC_NM_MN', 'UC_NM_LST']]\n"
   ]
  },
  {
   "cell_type": "markdown",
   "metadata": {},
   "source": [
    "# Procedures\n",
    "Load two files and start masking the listed cities."
   ]
  },
  {
   "cell_type": "code",
   "execution_count": 22,
   "metadata": {
    "ExecuteTime": {
     "end_time": "2020-07-07T09:49:32.799836Z",
     "start_time": "2020-07-07T09:49:32.771508Z"
    },
    "init_cell": true,
    "scrolled": true
   },
   "outputs": [
    {
     "data": {
      "text/plain": [
       "((72000, 144328),\n",
       " BoundingBox(left=-18041000.0, bottom=-9000000.0, right=18041000.0, top=9000000.0),\n",
       " '+proj=moll +lon_0=0 +x_0=0 +y_0=0 +datum=WGS84 +units=m +no_defs=True')"
      ]
     },
     "execution_count": 22,
     "metadata": {},
     "output_type": "execute_result"
    }
   ],
   "source": [
    "# Get population data for the whole world.\n",
    "pop = rasterio.open(os.path.join(\n",
    "    DROOT,\n",
    "    '2-external',\n",
    "    'GHS_POP_E2015_GLOBE_R2019A_54009_250_V1_0',\n",
    "    'GHS_POP_E2015_GLOBE_R2019A_54009_250_V1_0.tif'))\n",
    "pop.shape, pop.bounds, pop.crs.to_proj4()\n"
   ]
  },
  {
   "cell_type": "code",
   "execution_count": 23,
   "metadata": {
    "ExecuteTime": {
     "end_time": "2020-07-07T09:49:38.188242Z",
     "start_time": "2020-07-07T09:49:32.802156Z"
    },
    "init_cell": true,
    "scrolled": true
   },
   "outputs": [
    {
     "data": {
      "text/html": [
       "<div>\n",
       "<style scoped>\n",
       "    .dataframe tbody tr th:only-of-type {\n",
       "        vertical-align: middle;\n",
       "    }\n",
       "\n",
       "    .dataframe tbody tr th {\n",
       "        vertical-align: top;\n",
       "    }\n",
       "\n",
       "    .dataframe thead th {\n",
       "        text-align: right;\n",
       "    }\n",
       "</style>\n",
       "<table border=\"1\" class=\"dataframe\">\n",
       "  <thead>\n",
       "    <tr style=\"text-align: right;\">\n",
       "      <th></th>\n",
       "      <th>ID_HDC_G0</th>\n",
       "      <th>QA2_1V</th>\n",
       "      <th>AREA</th>\n",
       "      <th>BBX_LATMN</th>\n",
       "      <th>BBX_LONMN</th>\n",
       "      <th>BBX_LATMX</th>\n",
       "      <th>BBX_LONMX</th>\n",
       "      <th>GCPNT_LAT</th>\n",
       "      <th>GCPNT_LON</th>\n",
       "      <th>CTR_MN_NM</th>\n",
       "      <th>...</th>\n",
       "      <th>EX_SS_P00</th>\n",
       "      <th>EX_SS_P15</th>\n",
       "      <th>EX_EQ19PGA</th>\n",
       "      <th>EX_EQ19MMI</th>\n",
       "      <th>EX_EQ19_Q</th>\n",
       "      <th>EX_HW_IDX</th>\n",
       "      <th>SDG_LUE9015</th>\n",
       "      <th>SDG_A2G14</th>\n",
       "      <th>SDG_OS15MX</th>\n",
       "      <th>geometry</th>\n",
       "    </tr>\n",
       "  </thead>\n",
       "  <tbody>\n",
       "    <tr>\n",
       "      <th>0</th>\n",
       "      <td>1.0</td>\n",
       "      <td>1.0</td>\n",
       "      <td>185.0</td>\n",
       "      <td>21.247683</td>\n",
       "      <td>-158.043016</td>\n",
       "      <td>21.422193</td>\n",
       "      <td>-157.730529</td>\n",
       "      <td>21.340678</td>\n",
       "      <td>-157.893497</td>\n",
       "      <td>United States</td>\n",
       "      <td>...</td>\n",
       "      <td>397443.031445</td>\n",
       "      <td>444041.529529</td>\n",
       "      <td>NaN</td>\n",
       "      <td>NaN</td>\n",
       "      <td>missing</td>\n",
       "      <td>NaN</td>\n",
       "      <td>0.074385</td>\n",
       "      <td>0.226415</td>\n",
       "      <td>56.41</td>\n",
       "      <td>MULTIPOLYGON (((-15151000.000 2625000.000, -15...</td>\n",
       "    </tr>\n",
       "  </tbody>\n",
       "</table>\n",
       "<p>1 rows × 161 columns</p>\n",
       "</div>"
      ],
      "text/plain": [
       "   ID_HDC_G0  QA2_1V   AREA  BBX_LATMN   BBX_LONMN  BBX_LATMX   BBX_LONMX  \\\n",
       "0        1.0     1.0  185.0  21.247683 -158.043016  21.422193 -157.730529   \n",
       "\n",
       "   GCPNT_LAT   GCPNT_LON      CTR_MN_NM  ...      EX_SS_P00      EX_SS_P15  \\\n",
       "0  21.340678 -157.893497  United States  ...  397443.031445  444041.529529   \n",
       "\n",
       "   EX_EQ19PGA EX_EQ19MMI EX_EQ19_Q EX_HW_IDX SDG_LUE9015 SDG_A2G14 SDG_OS15MX  \\\n",
       "0         NaN        NaN   missing       NaN    0.074385  0.226415      56.41   \n",
       "\n",
       "                                            geometry  \n",
       "0  MULTIPOLYGON (((-15151000.000 2625000.000, -15...  \n",
       "\n",
       "[1 rows x 161 columns]"
      ]
     },
     "execution_count": 23,
     "metadata": {},
     "output_type": "execute_result"
    }
   ],
   "source": [
    "# Open Urban Centers file, it's pretty big.\n",
    "urbancenter_gdf = gpd.read_file( os.path.join(\n",
    "    DROOT, \n",
    "    '2-external',\n",
    "    'GHS_STAT_UCDB2015MT_GLOBE_R2019A',\n",
    "    'GHS_STAT_UCDB2015MT_GLOBE_R2019A_V1_2.gpkg')).to_crs(pop.crs)\n",
    "urbancenter_gdf.head(1)\n"
   ]
  },
  {
   "cell_type": "code",
   "execution_count": 44,
   "metadata": {
    "ExecuteTime": {
     "end_time": "2020-07-07T10:50:20.522586Z",
     "start_time": "2020-07-07T10:49:16.785335Z"
    }
   },
   "outputs": [
    {
     "data": {
      "application/vnd.jupyter.widget-view+json": {
       "model_id": "",
       "version_major": 2,
       "version_minor": 0
      },
      "text/plain": [
       "HBox(children=(FloatProgress(value=1.0, bar_style='info', max=1.0), HTML(value='')))"
      ]
     },
     "metadata": {},
     "output_type": "display_data"
    }
   ],
   "source": [
    "city_list_df = pd.read_csv(os.path.join(DROOT, '1-raw', 'citylist.csv'))\n",
    "city_list_itr = tqdm(city_list_df.itertuples(), leave=False)\n",
    "\n",
    "os.makedirs(os.path.join(DROOT, '3-interim', 'populationmasks'), exist_ok=True)\n",
    "\n",
    "# Get masked population dataframes for all mentioned cities.\n",
    "for city in city_list_itr:\n",
    "    \n",
    "    city_list_itr.set_description(\"Current city: {}\".format(city.City))\n",
    "\n",
    "    tiff_path = os.path.join(DROOT, '3-interim', 'populationmasks', \n",
    "                             city.City + '.tiff')\n",
    "    pcl_path  = os.path.join(DROOT, '3-interim', 'populationmasks', \n",
    "                             city.City + '.pcl')\n",
    "    \n",
    "    # If city already done, skip this.\n",
    "    if(os.path.exists(tiff_path) and False\n",
    "       and os.path.exists(pcl_path)):\n",
    "        continue;\n",
    "    \n",
    "    # Write out a masked selection with city population.\n",
    "    mask_popcenter_from_raster(\n",
    "        gdf_entry=urbancenter_gdf[\n",
    "            (urbancenter_gdf.UC_NM_MN == city.City) &\n",
    "            (urbancenter_gdf.XC_ISO_LST == city.Country)\n",
    "        ],\n",
    "        raster=pop,\n",
    "        tiff_out=tiff_path\n",
    "    )\n",
    "    \n",
    "    # Convert the masked tiff to geojson for GeoPandas to use.\n",
    "    # This is doing the heavy lifting!\n",
    "    with rasterio.open(tiff_path) as raster:\n",
    "        image = raster.read(1)\n",
    "        \n",
    "        # Add tiny random deviation (<1) so units don't join together\n",
    "        #   in the next shapes() method. \n",
    "        for row in range(len(image)):\n",
    "            for col in range(len(image[row])):\n",
    "                image[row,col] -= random()\n",
    "        \n",
    "        crs = raster.crs\n",
    "        list_pop = [\n",
    "            {'cell_pop': value, 'geometry': shape(shp)}\n",
    "            for i, (shp, value) \n",
    "            in enumerate(shapes(image, transform=raster.transform))\n",
    "            if value > raster.nodata\n",
    "        ]\n",
    "    \n",
    "    # Read in as a GeoPandas dataset and write out. \n",
    "    gdf_pop = gpd.GeoDataFrame(list_pop, crs=crs)\n",
    "    gdf_pop.cell_pop = np.maximum(gdf_pop.cell_pop, 0)\n",
    "    gdf_pop.to_pickle(pcl_path)\n"
   ]
  },
  {
   "cell_type": "code",
   "execution_count": 45,
   "metadata": {
    "ExecuteTime": {
     "end_time": "2020-07-07T10:50:41.025578Z",
     "start_time": "2020-07-07T10:50:40.257577Z"
    }
   },
   "outputs": [
    {
     "name": "stderr",
     "output_type": "stream",
     "text": [
      "/Users/ivo/opt/anaconda3/envs/thesis-env/lib/python3.7/site-packages/ipykernel_launcher.py:1: UserWarning: Geometry is in a geographic CRS. Results from 'centroid' are likely incorrect. Use 'GeoSeries.to_crs()' to re-project geometries to a projected CRS before this operation.\n",
      "\n",
      "  \"\"\"Entry point for launching an IPython kernel.\n"
     ]
    },
    {
     "data": {
      "text/plain": [
       "200    POINT (-74.07374 4.78903)\n",
       "201    POINT (-74.07124 4.78903)\n",
       "202    POINT (-74.06874 4.78903)\n",
       "203    POINT (-74.06625 4.78903)\n",
       "204    POINT (-74.06375 4.78903)\n",
       "205    POINT (-74.06125 4.78903)\n",
       "206    POINT (-74.05875 4.78903)\n",
       "207    POINT (-74.05625 4.78903)\n",
       "208    POINT (-74.05375 4.78903)\n",
       "209    POINT (-74.05125 4.78903)\n",
       "210    POINT (-74.04875 4.78903)\n",
       "211    POINT (-74.04625 4.78903)\n",
       "212    POINT (-74.04375 4.78903)\n",
       "213    POINT (-74.04125 4.78903)\n",
       "214    POINT (-74.03875 4.78903)\n",
       "215    POINT (-74.03625 4.78903)\n",
       "216    POINT (-74.09361 4.78701)\n",
       "217    POINT (-74.09111 4.78701)\n",
       "218    POINT (-74.08861 4.78701)\n",
       "219    POINT (-74.08611 4.78701)\n",
       "220    POINT (-74.08361 4.78701)\n",
       "221    POINT (-74.08111 4.78701)\n",
       "222    POINT (-74.07861 4.78701)\n",
       "223    POINT (-74.07611 4.78701)\n",
       "224    POINT (-74.07361 4.78701)\n",
       "225    POINT (-74.07111 4.78701)\n",
       "226    POINT (-74.06861 4.78701)\n",
       "227    POINT (-74.06611 4.78701)\n",
       "228    POINT (-74.06361 4.78701)\n",
       "229    POINT (-74.06111 4.78701)\n",
       "230    POINT (-74.05861 4.78701)\n",
       "231    POINT (-74.05611 4.78701)\n",
       "232    POINT (-74.05361 4.78701)\n",
       "233    POINT (-74.05111 4.78701)\n",
       "234    POINT (-74.04861 4.78701)\n",
       "235    POINT (-74.04611 4.78701)\n",
       "236    POINT (-74.04361 4.78701)\n",
       "237    POINT (-74.04111 4.78701)\n",
       "238    POINT (-74.03861 4.78701)\n",
       "239    POINT (-74.03611 4.78701)\n",
       "dtype: geometry"
      ]
     },
     "execution_count": 45,
     "metadata": {},
     "output_type": "execute_result"
    }
   ],
   "source": [
    "gdf_pop.to_crs(epsg=4326).centroid[200:240]"
   ]
  },
  {
   "cell_type": "code",
   "execution_count": 46,
   "metadata": {
    "ExecuteTime": {
     "end_time": "2020-07-07T10:50:51.616751Z",
     "start_time": "2020-07-07T10:50:50.772708Z"
    }
   },
   "outputs": [
    {
     "name": "stderr",
     "output_type": "stream",
     "text": [
      "/Users/ivo/opt/anaconda3/envs/thesis-env/lib/python3.7/site-packages/ipykernel_launcher.py:1: UserWarning: Geometry is in a geographic CRS. Results from 'centroid' are likely incorrect. Use 'GeoSeries.to_crs()' to re-project geometries to a projected CRS before this operation.\n",
      "\n",
      "  \"\"\"Entry point for launching an IPython kernel.\n"
     ]
    },
    {
     "data": {
      "text/plain": [
       "200     POINT (-74.07374 4.78903)\n",
       "600     POINT (-74.12185 4.76069)\n",
       "1000    POINT (-74.13078 4.74449)\n",
       "1400    POINT (-74.21996 4.73234)\n",
       "1800    POINT (-74.10944 4.72425)\n",
       "2200    POINT (-74.02892 4.71615)\n",
       "2600    POINT (-74.15823 4.70602)\n",
       "3000    POINT (-74.22756 4.69590)\n",
       "3400    POINT (-74.11691 4.68578)\n",
       "3800    POINT (-74.12598 4.67161)\n",
       "4200    POINT (-74.17492 4.65541)\n",
       "4600    POINT (-74.18400 4.64124)\n",
       "5000    POINT (-74.15322 4.62909)\n",
       "5400    POINT (-74.13244 4.61695)\n",
       "5800    POINT (-74.12166 4.60480)\n",
       "6200    POINT (-74.10088 4.59265)\n",
       "6600    POINT (-74.17009 4.58051)\n",
       "7000    POINT (-74.06947 4.57039)\n",
       "7400    POINT (-74.20866 4.55824)\n",
       "7800    POINT (-74.11791 4.54609)\n",
       "8200    POINT (-74.14623 4.51978)\n",
       "8600    POINT (-74.10358 4.47727)\n",
       "dtype: geometry"
      ]
     },
     "execution_count": 46,
     "metadata": {},
     "output_type": "execute_result"
    }
   ],
   "source": [
    "gdf_pop.to_crs(epsg=4326).centroid[200::400]"
   ]
  }
 ],
 "metadata": {
  "celltoolbar": "Initialization Cell",
  "kernelspec": {
   "display_name": "Python [conda env:thesis-env] *",
   "language": "python",
   "name": "conda-env-thesis-env-py"
  },
  "language_info": {
   "codemirror_mode": {
    "name": "ipython",
    "version": 3
   },
   "file_extension": ".py",
   "mimetype": "text/x-python",
   "name": "python",
   "nbconvert_exporter": "python",
   "pygments_lexer": "ipython3",
   "version": "3.7.6"
  },
  "notify_time": "10"
 },
 "nbformat": 4,
 "nbformat_minor": 4
}
