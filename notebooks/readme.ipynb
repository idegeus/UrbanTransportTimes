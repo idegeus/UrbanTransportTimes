{
 "cells": [
  {
   "cell_type": "markdown",
   "metadata": {},
   "source": [
    "# Dataset of Urban Transit Times\n",
    "\n",
    "These notebooks are set up for collecting all neccessary information and data to reproduce all data for this project. \n",
    "\n",
    "## Requirements\n",
    "\n",
    "To execute this project, you need\n",
    "\n",
    "* A valid Python (<3.7) installation to create the environment from environment.yml\n",
    "* A set-up docker-environment to generate the OpenRouteService-docker.\n",
    "* Probably more, this will be updated in due time..."
   ]
  },
  {
   "cell_type": "markdown",
   "metadata": {},
   "source": [
    "## Where to start?\n",
    "\n",
    "* <a href='./1.1-population-rasters-to-geodataframe.ipynb'>Notebooks 1.x</a> are about preparing data (Fetching external data, generating exerpts)\n",
    "* <a href='./2.1-fetch-route-information.ipynb'>Notebooks 2.x</a> generate the routes from external services. To run these, you need API tokens set in your .env-file.\n",
    "* <a href='./3.1-exploring-data.ipynb'>Notebooks 3.x</a> explore and aggregate these generated datasets into graphs and csv/json-files.\n",
    "\n",
    "If you just downloaded this repository, start with the <a href='./3.1-exploring-data.ipynb'>notebooks in 3.1</a>. These are the best documented and give insight in how the data is generated. "
   ]
  }
 ],
 "metadata": {
  "kernelspec": {
   "display_name": "Python [conda env:thesis-env] *",
   "language": "python",
   "name": "conda-env-thesis-env-py"
  },
  "language_info": {
   "codemirror_mode": {
    "name": "ipython",
    "version": 3
   },
   "file_extension": ".py",
   "mimetype": "text/x-python",
   "name": "python",
   "nbconvert_exporter": "python",
   "pygments_lexer": "ipython3",
   "version": "3.7.6"
  }
 },
 "nbformat": 4,
 "nbformat_minor": 4
}
