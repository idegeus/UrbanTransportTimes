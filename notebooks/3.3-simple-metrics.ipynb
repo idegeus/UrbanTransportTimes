{
 "cells": [
  {
   "cell_type": "markdown",
   "metadata": {},
   "source": [
    "# Simple Metrics\n",
    "This notebook covers a basic exploration of metrics: which cities have the highest average speed, etc."
   ]
  },
  {
   "cell_type": "markdown",
   "metadata": {
    "heading_collapsed": true
   },
   "source": [
    "# Imports, Methods & Data\n",
    "These are automatically executed using the initialisation-cells plugin."
   ]
  },
  {
   "cell_type": "code",
   "execution_count": 4,
   "metadata": {
    "ExecuteTime": {
     "end_time": "2020-07-07T13:51:31.891303Z",
     "start_time": "2020-07-07T13:51:31.735964Z"
    },
    "hidden": true,
    "init_cell": true,
    "scrolled": true
   },
   "outputs": [
    {
     "name": "stderr",
     "output_type": "stream",
     "text": [
      "/Users/ivo/opt/anaconda3/envs/thesis-env/lib/python3.7/site-packages/tqdm/std.py:668: FutureWarning: The Panel class is removed from pandas. Accessing it from the top-level namespace will also be removed in the next version\n",
      "  from pandas import Panel\n"
     ]
    }
   ],
   "source": [
    "import matplotlib as mpl\n",
    "import matplotlib.pyplot as plt\n",
    "from shapely.geometry import Point\n",
    "import os\n",
    "import numpy as np\n",
    "import pandas as pd\n",
    "import geopandas as gpd\n",
    "from math import ceil\n",
    "from pyproj import CRS\n",
    "\n",
    "import seaborn as sns\n",
    "sns.set()\n",
    "\n",
    "from tqdm.notebook import tqdm\n",
    "tqdm.pandas()\n",
    "\n",
    "%matplotlib inline\n",
    "\n",
    "DROOT = './data/'"
   ]
  },
  {
   "cell_type": "code",
   "execution_count": 5,
   "metadata": {
    "ExecuteTime": {
     "end_time": "2020-07-07T13:51:31.980183Z",
     "start_time": "2020-07-07T13:51:31.901562Z"
    },
    "hidden": true,
    "init_cell": true
   },
   "outputs": [],
   "source": [
    "def weighted_mean(df, weight='cell_pop'):\n",
    "    \"\"\"Returns the weighted mean of a dataframe.\"\"\"\n",
    "    return df.apply(lambda x: (x * df[weight]).sum() / df[weight].sum())\n",
    "    \n",
    "df = pd.DataFrame({\n",
    "    \"A\": [10, 20, 30], \n",
    "    \"B\": [20, 30, 40], \n",
    "    \"C\": [ 1,  2,  3],  })\n",
    "\n",
    "assert weighted_mean(df, weight='C').B    == (100 / 3)   # 33.333..\n",
    "assert weighted_mean(df, weight='C').A == (10 / 3 + 20)  # 23.333.."
   ]
  },
  {
   "cell_type": "code",
   "execution_count": 6,
   "metadata": {
    "ExecuteTime": {
     "end_time": "2020-07-07T13:52:11.396996Z",
     "start_time": "2020-07-07T13:51:31.983825Z"
    },
    "hidden": true,
    "init_cell": true,
    "scrolled": false
   },
   "outputs": [
    {
     "data": {
      "text/html": [
       "<div>\n",
       "<style scoped>\n",
       "    .dataframe tbody tr th:only-of-type {\n",
       "        vertical-align: middle;\n",
       "    }\n",
       "\n",
       "    .dataframe tbody tr th {\n",
       "        vertical-align: top;\n",
       "    }\n",
       "\n",
       "    .dataframe thead th {\n",
       "        text-align: right;\n",
       "    }\n",
       "</style>\n",
       "<table border=\"1\" class=\"dataframe\">\n",
       "  <thead>\n",
       "    <tr style=\"text-align: right;\">\n",
       "      <th></th>\n",
       "      <th>city</th>\n",
       "      <th>cell_id</th>\n",
       "      <th>cell_pop</th>\n",
       "      <th>sky_d</th>\n",
       "      <th>walk_d</th>\n",
       "      <th>walk_t</th>\n",
       "      <th>pt_r_d</th>\n",
       "      <th>pt_r_t</th>\n",
       "      <th>pt_r_it</th>\n",
       "      <th>pt_m_d</th>\n",
       "      <th>pt_m_t</th>\n",
       "      <th>pt_m_it</th>\n",
       "      <th>bike_d</th>\n",
       "      <th>bike_t</th>\n",
       "      <th>car_r_d</th>\n",
       "      <th>car_r_t</th>\n",
       "      <th>car_m_d</th>\n",
       "      <th>car_m_t</th>\n",
       "      <th>sky_d_bin</th>\n",
       "      <th>geometry</th>\n",
       "    </tr>\n",
       "  </thead>\n",
       "  <tbody>\n",
       "    <tr>\n",
       "      <th>0</th>\n",
       "      <td>Vienna</td>\n",
       "      <td>0</td>\n",
       "      <td>161.543976</td>\n",
       "      <td>9.995682</td>\n",
       "      <td>11.394</td>\n",
       "      <td>8204.0</td>\n",
       "      <td>11.800</td>\n",
       "      <td>2252.0</td>\n",
       "      <td>NaN</td>\n",
       "      <td>11.800</td>\n",
       "      <td>2192.0</td>\n",
       "      <td>NaN</td>\n",
       "      <td>11.9064</td>\n",
       "      <td>2418.8</td>\n",
       "      <td>12.005</td>\n",
       "      <td>1629.0</td>\n",
       "      <td>12.005</td>\n",
       "      <td>1334.0</td>\n",
       "      <td>9.5</td>\n",
       "      <td>POLYGON ((1818198.791 6157223.246, 1818145.897...</td>\n",
       "    </tr>\n",
       "    <tr>\n",
       "      <th>1</th>\n",
       "      <td>Vienna</td>\n",
       "      <td>1</td>\n",
       "      <td>55.208580</td>\n",
       "      <td>9.959567</td>\n",
       "      <td>11.228</td>\n",
       "      <td>8085.0</td>\n",
       "      <td>12.074</td>\n",
       "      <td>2384.0</td>\n",
       "      <td>NaN</td>\n",
       "      <td>17.262</td>\n",
       "      <td>3286.0</td>\n",
       "      <td>NaN</td>\n",
       "      <td>11.6706</td>\n",
       "      <td>2371.6</td>\n",
       "      <td>12.577</td>\n",
       "      <td>1800.0</td>\n",
       "      <td>12.577</td>\n",
       "      <td>1505.0</td>\n",
       "      <td>9.5</td>\n",
       "      <td>POLYGON ((1818556.845 6157223.246, 1818503.941...</td>\n",
       "    </tr>\n",
       "  </tbody>\n",
       "</table>\n",
       "</div>"
      ],
      "text/plain": [
       "     city  cell_id    cell_pop     sky_d  walk_d  walk_t  pt_r_d  pt_r_t  \\\n",
       "0  Vienna        0  161.543976  9.995682  11.394  8204.0  11.800  2252.0   \n",
       "1  Vienna        1   55.208580  9.959567  11.228  8085.0  12.074  2384.0   \n",
       "\n",
       "   pt_r_it  pt_m_d  pt_m_t  pt_m_it   bike_d  bike_t  car_r_d  car_r_t  \\\n",
       "0      NaN  11.800  2192.0      NaN  11.9064  2418.8   12.005   1629.0   \n",
       "1      NaN  17.262  3286.0      NaN  11.6706  2371.6   12.577   1800.0   \n",
       "\n",
       "   car_m_d  car_m_t  sky_d_bin  \\\n",
       "0   12.005   1334.0        9.5   \n",
       "1   12.577   1505.0        9.5   \n",
       "\n",
       "                                            geometry  \n",
       "0  POLYGON ((1818198.791 6157223.246, 1818145.897...  \n",
       "1  POLYGON ((1818556.845 6157223.246, 1818503.941...  "
      ]
     },
     "execution_count": 6,
     "metadata": {},
     "output_type": "execute_result"
    }
   ],
   "source": [
    "# Load Cities transport times.\n",
    "gdf_original = gpd.read_file(\n",
    "    os.path.join(DROOT, '4-processed', 'complete-dataset.gpkg'))\n",
    "gdf_original = gdf_original.to_crs(epsg=3857)\n",
    "gdf_total = gdf_original.copy()\n",
    "gdf_total.head(2)"
   ]
  },
  {
   "cell_type": "markdown",
   "metadata": {},
   "source": [
    "# Procedures"
   ]
  },
  {
   "cell_type": "markdown",
   "metadata": {},
   "source": [
    "## Mean population weighted route speeds"
   ]
  },
  {
   "cell_type": "code",
   "execution_count": 19,
   "metadata": {
    "ExecuteTime": {
     "end_time": "2020-07-07T14:01:02.345887Z",
     "start_time": "2020-07-07T14:01:01.471975Z"
    },
    "scrolled": false
   },
   "outputs": [
    {
     "data": {
      "text/html": [
       "<div>\n",
       "<style scoped>\n",
       "    .dataframe tbody tr th:only-of-type {\n",
       "        vertical-align: middle;\n",
       "    }\n",
       "\n",
       "    .dataframe tbody tr th {\n",
       "        vertical-align: top;\n",
       "    }\n",
       "\n",
       "    .dataframe thead th {\n",
       "        text-align: right;\n",
       "    }\n",
       "</style>\n",
       "<table border=\"1\" class=\"dataframe\">\n",
       "  <thead>\n",
       "    <tr style=\"text-align: right;\">\n",
       "      <th></th>\n",
       "      <th>car_r_s</th>\n",
       "      <th>car_m_s</th>\n",
       "      <th>bike_s</th>\n",
       "      <th>walk_s</th>\n",
       "    </tr>\n",
       "    <tr>\n",
       "      <th>city</th>\n",
       "      <th></th>\n",
       "      <th></th>\n",
       "      <th></th>\n",
       "      <th></th>\n",
       "    </tr>\n",
       "  </thead>\n",
       "  <tbody>\n",
       "    <tr>\n",
       "      <th>Aarhus</th>\n",
       "      <td>25.021027</td>\n",
       "      <td>24.700550</td>\n",
       "      <td>16.817873</td>\n",
       "      <td>4.997903</td>\n",
       "    </tr>\n",
       "    <tr>\n",
       "      <th>Adelaide</th>\n",
       "      <td>27.455110</td>\n",
       "      <td>29.571434</td>\n",
       "      <td>17.652370</td>\n",
       "      <td>4.999689</td>\n",
       "    </tr>\n",
       "    <tr>\n",
       "      <th>Amsterdam</th>\n",
       "      <td>36.188845</td>\n",
       "      <td>37.150053</td>\n",
       "      <td>15.478339</td>\n",
       "      <td>4.924515</td>\n",
       "    </tr>\n",
       "    <tr>\n",
       "      <th>Auckland</th>\n",
       "      <td>31.542618</td>\n",
       "      <td>42.230042</td>\n",
       "      <td>17.102362</td>\n",
       "      <td>4.999773</td>\n",
       "    </tr>\n",
       "    <tr>\n",
       "      <th>Barcelona</th>\n",
       "      <td>46.461517</td>\n",
       "      <td>48.364053</td>\n",
       "      <td>16.390535</td>\n",
       "      <td>4.982820</td>\n",
       "    </tr>\n",
       "    <tr>\n",
       "      <th>Berlin</th>\n",
       "      <td>27.946866</td>\n",
       "      <td>30.900820</td>\n",
       "      <td>17.320232</td>\n",
       "      <td>4.997781</td>\n",
       "    </tr>\n",
       "    <tr>\n",
       "      <th>Bern</th>\n",
       "      <td>22.626637</td>\n",
       "      <td>23.059203</td>\n",
       "      <td>16.591032</td>\n",
       "      <td>5.000292</td>\n",
       "    </tr>\n",
       "    <tr>\n",
       "      <th>Birmingham</th>\n",
       "      <td>28.336672</td>\n",
       "      <td>30.236497</td>\n",
       "      <td>17.007802</td>\n",
       "      <td>4.998668</td>\n",
       "    </tr>\n",
       "    <tr>\n",
       "      <th>Bogota</th>\n",
       "      <td>43.659314</td>\n",
       "      <td>43.660053</td>\n",
       "      <td>17.569587</td>\n",
       "      <td>4.998907</td>\n",
       "    </tr>\n",
       "    <tr>\n",
       "      <th>Brussels</th>\n",
       "      <td>30.390982</td>\n",
       "      <td>31.576077</td>\n",
       "      <td>16.513225</td>\n",
       "      <td>4.991863</td>\n",
       "    </tr>\n",
       "  </tbody>\n",
       "</table>\n",
       "</div>"
      ],
      "text/plain": [
       "              car_r_s    car_m_s     bike_s    walk_s\n",
       "city                                                 \n",
       "Aarhus      25.021027  24.700550  16.817873  4.997903\n",
       "Adelaide    27.455110  29.571434  17.652370  4.999689\n",
       "Amsterdam   36.188845  37.150053  15.478339  4.924515\n",
       "Auckland    31.542618  42.230042  17.102362  4.999773\n",
       "Barcelona   46.461517  48.364053  16.390535  4.982820\n",
       "Berlin      27.946866  30.900820  17.320232  4.997781\n",
       "Bern        22.626637  23.059203  16.591032  5.000292\n",
       "Birmingham  28.336672  30.236497  17.007802  4.998668\n",
       "Bogota      43.659314  43.660053  17.569587  4.998907\n",
       "Brussels    30.390982  31.576077  16.513225  4.991863"
      ]
     },
     "execution_count": 19,
     "metadata": {},
     "output_type": "execute_result"
    }
   ],
   "source": [
    "gdf_total = gdf_original.copy()\n",
    "gdf_total['car_r_s'] = gdf_total.car_r_d / (gdf_total.car_r_t / 3600)\n",
    "gdf_total['car_m_s'] = gdf_total.car_m_d / (gdf_total.car_m_t / 3600)\n",
    "gdf_total['bike_s'] =  gdf_total.bike_d  / (gdf_total.bike_t  / 3600)\n",
    "gdf_total['walk_s'] =  gdf_total.walk_d  / (gdf_total.walk_t  / 3600)\n",
    "gdf_total = gdf_total[['city', 'cell_pop', 'car_r_s', \n",
    "                       'car_m_s', 'bike_s', 'walk_s']]\n",
    "gdf_speed = gdf_total.groupby('city').apply(weighted_mean)\n",
    "gdf_speed = gdf_speed.drop(columns=['cell_pop'])\n",
    "gdf_speed.to_csv(\n",
    "    os.path.join(DROOT, '4-processed', 'mean-mode-kmph.csv'))\n",
    "gdf_speed.reset_index().to_json(\n",
    "    os.path.join(DROOT, '4-processed', 'mean-mode-kmph.json'),\n",
    "    orient='records', double_precision=1)\n",
    "gdf_speed.head(10)"
   ]
  },
  {
   "cell_type": "markdown",
   "metadata": {},
   "source": [
    "# Visualisations"
   ]
  },
  {
   "cell_type": "code",
   "execution_count": 15,
   "metadata": {
    "ExecuteTime": {
     "end_time": "2020-07-07T11:26:44.295483Z",
     "start_time": "2020-07-07T11:26:43.096575Z"
    }
   },
   "outputs": [
    {
     "data": {
      "image/png": "[encoded data removed]",
      "text/plain": [
       "<Figure size 1200x600 with 1 Axes>"
      ]
     },
     "metadata": {
      "needs_background": "light"
     },
     "output_type": "display_data"
    }
   ],
   "source": [
    "# Create a plot and save it.\n",
    "fig, ax = plt.subplots(figsize=(8,4), dpi=150, tight_layout=True)\n",
    "both_ends = [0,1,2,3,4,5,6,-7,-6,-5,-4,-3,-2,-1]\n",
    "\n",
    "# Loop over modes and save.\n",
    "gdf_speed = gdf_speed.sort_values(by='car_r_s', ascending=False)\n",
    "speeds_df = gdf_speed.iloc[both_ends].plot(kind='bar', legend=True, ax=ax)\n",
    "ax.set_ylabel('Average route km/h')\n",
    "ax.set_xlabel('')\n",
    "plt.savefig(os.path.join(DROOT, '5-graphs', 'avg-speed-modes.png'))"
   ]
  }
 ],
 "metadata": {
  "celltoolbar": "Initialization Cell",
  "kernelspec": {
   "display_name": "Python [conda env:thesis-env] *",
   "language": "python",
   "name": "conda-env-thesis-env-py"
  },
  "language_info": {
   "codemirror_mode": {
    "name": "ipython",
    "version": 3
   },
   "file_extension": ".py",
   "mimetype": "text/x-python",
   "name": "python",
   "nbconvert_exporter": "python",
   "pygments_lexer": "ipython3",
   "version": "3.7.6"
  }
 },
 "nbformat": 4,
 "nbformat_minor": 4
}
